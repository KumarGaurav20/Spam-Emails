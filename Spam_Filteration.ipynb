{
  "nbformat": 4,
  "nbformat_minor": 0,
  "metadata": {
    "colab": {
      "name": "Spam Filteration.ipynb",
      "provenance": [],
      "collapsed_sections": [],
      "authorship_tag": "ABX9TyOfnxtWtpafayLbdfTzgoLc",
      "include_colab_link": true
    },
    "kernelspec": {
      "name": "python3",
      "display_name": "Python 3"
    },
    "language_info": {
      "name": "python"
    }
  },
  "cells": [
    {
      "cell_type": "markdown",
      "metadata": {
        "id": "view-in-github",
        "colab_type": "text"
      },
      "source": [
        "<a href=\"https://colab.research.google.com/github/KumarGaurav20/Spam-Emails/blob/main/Spam_Filteration.ipynb\" target=\"_parent\"><img src=\"https://colab.research.google.com/assets/colab-badge.svg\" alt=\"Open In Colab\"/></a>"
      ]
    },
    {
      "cell_type": "markdown",
      "metadata": {
        "id": "CftQyq4nSADU"
      },
      "source": [
        "# **FILTERING AND VISUALIZING EMAILS** "
      ]
    },
    {
      "cell_type": "code",
      "metadata": {
        "colab": {
          "base_uri": "https://localhost:8080/"
        },
        "id": "Fsy79p4WORRY",
        "outputId": "ba39b275-d854-48c9-d7a1-5c89fe5c2268"
      },
      "source": [
        "from google.colab import drive\n",
        "\n",
        "drive.mount('/content/gdrive')"
      ],
      "execution_count": 52,
      "outputs": [
        {
          "output_type": "stream",
          "name": "stdout",
          "text": [
            "Drive already mounted at /content/gdrive; to attempt to forcibly remount, call drive.mount(\"/content/gdrive\", force_remount=True).\n"
          ]
        }
      ]
    },
    {
      "cell_type": "code",
      "metadata": {
        "id": "t1711o16SVQv"
      },
      "source": [
        "from os import walk\n",
        "from os.path import join\n",
        "import pandas as pd\n",
        "import matplotlib.pyplot as plt\n",
        "\n",
        "# For Natural Language Processing\n",
        "import nltk\n",
        "from nltk.stem import PorterStemmer     #For stemming(reduction of words)\n",
        "from nltk.stem import SnowballStemmer   #Another Stemming Methdd\n",
        "from nltk.corpus import stopwords       #For filtering stopwords(the, is, etc.)\n",
        "from nltk.tokenize import word_tokenize #For tokkenizing words\n",
        "from bs4 import BeautifulSoup           #For removing html\n",
        "\n",
        "from sklearn.model_selection import train_test_split #for training and splitting data\n",
        "\n",
        "%matplotlib inline"
      ],
      "execution_count": 91,
      "outputs": []
    },
    {
      "cell_type": "markdown",
      "metadata": {
        "id": "KXtqpB71UkrE"
      },
      "source": [
        "CONSTANTS\n"
      ]
    },
    {
      "cell_type": "code",
      "metadata": {
        "id": "7lFebP3lUoAv"
      },
      "source": [
        "FILE_PATH= '/content/gdrive/MyDrive/COLAB DATA/SpamData/01_Processing/practice_email.txt'\n",
        "DATA_JSON_FILE= '/content/gdrive/MyDrive/COLAB DATA/email-text-data.json'\n",
        "WORD_ID_FILE= '/content/gdrive/MyDrive/COLAB DATA/word-by-id.csv'\n",
        "\n",
        "SPAM_1_PATH= '/content/gdrive/MyDrive/COLAB DATA/SpamData/01_Processing/spam_assassin_corpus/spam_1'\n",
        "SPAM_2_PATH= '/content/gdrive/MyDrive/COLAB DATA/SpamData/01_Processing/spam_assassin_corpus/spam_2'\n",
        "HAM_1_PATH= '/content/gdrive/MyDrive/COLAB DATA/SpamData/01_Processing/spam_assassin_corpus/easy_ham_1'\n",
        "HAM_11_PATH= 'D:\\Machine Learning\\6. Pre-Process Text Data for a Naive Bayes Classifier to Filter Spam Emails Part 1\\SpamData\\01_Processing\\spam_assassin_corpus\\easy_ham_1'\n",
        "HAM_2_PATH= '/content/gdrive/MyDrive/COLAB DATA/SpamData/01_Processing/spam_assassin_corpus/easy_ham_2'\n",
        "\n",
        "SPAM_CAT= 1\n",
        "HAM_CAT= 0\n",
        "\n",
        "VOCAB_SIZE=2500\n"
      ],
      "execution_count": 54,
      "outputs": []
    },
    {
      "cell_type": "markdown",
      "metadata": {
        "id": "7s3XybPCYZxn"
      },
      "source": [
        "Function for Email Body Generation\n"
      ]
    },
    {
      "cell_type": "code",
      "metadata": {
        "id": "lmYd3htjUcoJ"
      },
      "source": [
        "# Fuction to generate the email body\n",
        "def email_body_generator(path):\n",
        "  for root, dirnames, filenames in walk(path): #walk iterates and returns the three tuple pf files in a  given folder\n",
        "    for file_name in filenames:\n",
        "      \n",
        "      filepath= join(root, file_name)\n",
        "      stream= open(filepath, encoding='latin_1')\n",
        "      #checking if it's email body or not\n",
        "      is_body= False \n",
        "      #for reading the lines into a list\n",
        "      lines=[] \n",
        "      for line in stream:\n",
        "        if is_body:\n",
        "          lines.append(line)\n",
        "      #check for new line(as header is separated with body by a new line )\n",
        "        elif line==\"\\n\":\n",
        "          is_body=True\n",
        "          \n",
        "      stream.close()\n",
        "      # converting the list into a string\n",
        "      email_body='\\n'.join(lines)\n",
        "      #yield is a special return type that remembers previous output\n",
        "      yield file_name, email_body \n",
        "      "
      ],
      "execution_count": 55,
      "outputs": []
    },
    {
      "cell_type": "markdown",
      "metadata": {
        "id": "iMZh4k8iJ_Ah"
      },
      "source": [
        "Function for generating dataframe of email_body\n"
      ]
    },
    {
      "cell_type": "code",
      "metadata": {
        "id": "4DdWpMzxILUc"
      },
      "source": [
        "# classification is the category(group no) that we'll provide\n",
        "def df_from_email_body(path, classification):\n",
        "  rows=[]\n",
        "  row_names=[]\n",
        "\n",
        "  for file_name, email_body in email_body_generator(path):\n",
        "    rows.append({'Message': email_body, 'Category': classification})\n",
        "    row_names.append(file_name)\n",
        "\n",
        "  return pd.DataFrame(rows, index=row_names)\n"
      ],
      "execution_count": 56,
      "outputs": []
    },
    {
      "cell_type": "markdown",
      "metadata": {
        "id": "FzigsDt1Mp7k"
      },
      "source": [
        "Generating Dataframe of Spam & Normal Emails"
      ]
    },
    {
      "cell_type": "code",
      "metadata": {
        "id": "xTzoO57PejGz"
      },
      "source": [
        "spam_emails = df_from_email_body(SPAM_1_PATH, SPAM_CAT)\n",
        "spam_emails = spam_emails.append(df_from_email_body(SPAM_2_PATH, SPAM_CAT))\n",
        "\n"
      ],
      "execution_count": 57,
      "outputs": []
    },
    {
      "cell_type": "code",
      "metadata": {
        "id": "zsikWK13uOG5"
      },
      "source": [
        "\n",
        "ham_emails = df_from_email_body(HAM_1_PATH, HAM_CAT)\n",
        "ham_emails = ham_emails.append(df_from_email_body(HAM_2_PATH, HAM_CAT))"
      ],
      "execution_count": 58,
      "outputs": []
    },
    {
      "cell_type": "code",
      "metadata": {
        "id": "Zec_YSfTe5on"
      },
      "source": [
        "data_combined= pd.concat([spam_emails, ham_emails])"
      ],
      "execution_count": 59,
      "outputs": []
    },
    {
      "cell_type": "code",
      "metadata": {
        "colab": {
          "base_uri": "https://localhost:8080/",
          "height": 204
        },
        "id": "AY0c4WZRlSug",
        "outputId": "10cac910-3266-442b-8386-6393fd9631a0"
      },
      "source": [
        "data_combined.head()"
      ],
      "execution_count": 60,
      "outputs": [
        {
          "output_type": "execute_result",
          "data": {
            "text/html": [
              "<div>\n",
              "<style scoped>\n",
              "    .dataframe tbody tr th:only-of-type {\n",
              "        vertical-align: middle;\n",
              "    }\n",
              "\n",
              "    .dataframe tbody tr th {\n",
              "        vertical-align: top;\n",
              "    }\n",
              "\n",
              "    .dataframe thead th {\n",
              "        text-align: right;\n",
              "    }\n",
              "</style>\n",
              "<table border=\"1\" class=\"dataframe\">\n",
              "  <thead>\n",
              "    <tr style=\"text-align: right;\">\n",
              "      <th></th>\n",
              "      <th>Message</th>\n",
              "      <th>Category</th>\n",
              "    </tr>\n",
              "  </thead>\n",
              "  <tbody>\n",
              "    <tr>\n",
              "      <th>00003.2ee33bc6eacdb11f38d052c44819ba6c</th>\n",
              "      <td>1) Fight The Risk of Cancer!\\n\\nhttp://www.adc...</td>\n",
              "      <td>1</td>\n",
              "    </tr>\n",
              "    <tr>\n",
              "      <th>00292.dbf78a2aaa230d288eb80ab843804252</th>\n",
              "      <td>REGISTER .COM, .BIZ, AND .INFO DOMAINS FOR ONL...</td>\n",
              "      <td>1</td>\n",
              "    </tr>\n",
              "    <tr>\n",
              "      <th>00367.9688cdee9dfe720c297672c8f60d998f</th>\n",
              "      <td>++++++++++++++++++++++++++++++++++++++++++++++...</td>\n",
              "      <td>1</td>\n",
              "    </tr>\n",
              "    <tr>\n",
              "      <th>00282.0e230e05877f40a522bfb93aa3e314f3</th>\n",
              "      <td>&lt;html&gt;\\n\\n&lt;head&gt;\\n\\n&lt;/head&gt;\\n\\n&lt;center&gt;\\n\\n&lt;h1...</td>\n",
              "      <td>1</td>\n",
              "    </tr>\n",
              "    <tr>\n",
              "      <th>00448.a6ac96e93ef03ec1a638c577c6940f5e</th>\n",
              "      <td>&lt;html&gt;\\n\\n\\n\\n&lt;head&gt;\\n\\n&lt;title&gt;Classic Wines&lt;/...</td>\n",
              "      <td>1</td>\n",
              "    </tr>\n",
              "  </tbody>\n",
              "</table>\n",
              "</div>"
            ],
            "text/plain": [
              "                                                                                  Message  Category\n",
              "00003.2ee33bc6eacdb11f38d052c44819ba6c  1) Fight The Risk of Cancer!\\n\\nhttp://www.adc...         1\n",
              "00292.dbf78a2aaa230d288eb80ab843804252  REGISTER .COM, .BIZ, AND .INFO DOMAINS FOR ONL...         1\n",
              "00367.9688cdee9dfe720c297672c8f60d998f  ++++++++++++++++++++++++++++++++++++++++++++++...         1\n",
              "00282.0e230e05877f40a522bfb93aa3e314f3  <html>\\n\\n<head>\\n\\n</head>\\n\\n<center>\\n\\n<h1...         1\n",
              "00448.a6ac96e93ef03ec1a638c577c6940f5e  <html>\\n\\n\\n\\n<head>\\n\\n<title>Classic Wines</...         1"
            ]
          },
          "metadata": {},
          "execution_count": 60
        }
      ]
    },
    {
      "cell_type": "code",
      "metadata": {
        "colab": {
          "base_uri": "https://localhost:8080/",
          "height": 204
        },
        "id": "wD6oi_8rlZWK",
        "outputId": "1631447b-7831-4fbd-b286-aa3322611252"
      },
      "source": [
        "data_combined.tail()"
      ],
      "execution_count": 61,
      "outputs": [
        {
          "output_type": "execute_result",
          "data": {
            "text/html": [
              "<div>\n",
              "<style scoped>\n",
              "    .dataframe tbody tr th:only-of-type {\n",
              "        vertical-align: middle;\n",
              "    }\n",
              "\n",
              "    .dataframe tbody tr th {\n",
              "        vertical-align: top;\n",
              "    }\n",
              "\n",
              "    .dataframe thead th {\n",
              "        text-align: right;\n",
              "    }\n",
              "</style>\n",
              "<table border=\"1\" class=\"dataframe\">\n",
              "  <thead>\n",
              "    <tr style=\"text-align: right;\">\n",
              "      <th></th>\n",
              "      <th>Message</th>\n",
              "      <th>Category</th>\n",
              "    </tr>\n",
              "  </thead>\n",
              "  <tbody>\n",
              "    <tr>\n",
              "      <th>01037.bfe999fe03b3c6b5b7cc2360c793e5a0</th>\n",
              "      <td>On Thu, 2002-08-15 at 17:53, Jesse wrote:\\n\\n&gt;...</td>\n",
              "      <td>0</td>\n",
              "    </tr>\n",
              "    <tr>\n",
              "      <th>01057.b2810601523d3bb9051088959078e309</th>\n",
              "      <td>Hello Gary,\\n\\n\\n\\n\\n\\nUh, plague is not actio...</td>\n",
              "      <td>0</td>\n",
              "    </tr>\n",
              "    <tr>\n",
              "      <th>01261.8335ae817bc240842df41dd7c3de2420</th>\n",
              "      <td>\\n\\n\\n\\n&gt; -----Original Message-----\\n\\n&gt; From...</td>\n",
              "      <td>0</td>\n",
              "    </tr>\n",
              "    <tr>\n",
              "      <th>01308.27ef6351cd2bcfef79df9ec5b563afae</th>\n",
              "      <td>On Tue, Jul 23, 2002 at 03:43:24PM -0400, rODb...</td>\n",
              "      <td>0</td>\n",
              "    </tr>\n",
              "    <tr>\n",
              "      <th>00910.4b1bddb9bfc1cea936f0f8cae0cd097d</th>\n",
              "      <td>On Friday, July 26, 2002, at 12:19 PM, James R...</td>\n",
              "      <td>0</td>\n",
              "    </tr>\n",
              "  </tbody>\n",
              "</table>\n",
              "</div>"
            ],
            "text/plain": [
              "                                                                                  Message  Category\n",
              "01037.bfe999fe03b3c6b5b7cc2360c793e5a0  On Thu, 2002-08-15 at 17:53, Jesse wrote:\\n\\n>...         0\n",
              "01057.b2810601523d3bb9051088959078e309  Hello Gary,\\n\\n\\n\\n\\n\\nUh, plague is not actio...         0\n",
              "01261.8335ae817bc240842df41dd7c3de2420  \\n\\n\\n\\n> -----Original Message-----\\n\\n> From...         0\n",
              "01308.27ef6351cd2bcfef79df9ec5b563afae  On Tue, Jul 23, 2002 at 03:43:24PM -0400, rODb...         0\n",
              "00910.4b1bddb9bfc1cea936f0f8cae0cd097d  On Friday, July 26, 2002, at 12:19 PM, James R...         0"
            ]
          },
          "metadata": {},
          "execution_count": 61
        }
      ]
    },
    {
      "cell_type": "markdown",
      "metadata": {
        "id": "Odryt9tBl2uZ"
      },
      "source": [
        "Checking for null columns"
      ]
    },
    {
      "cell_type": "code",
      "metadata": {
        "colab": {
          "base_uri": "https://localhost:8080/"
        },
        "id": "TkIAr7k2l8sj",
        "outputId": "aeba2b52-de22-47be-898d-0b6810ddf276"
      },
      "source": [
        "data_combined.isnull().sum()"
      ],
      "execution_count": 62,
      "outputs": [
        {
          "output_type": "execute_result",
          "data": {
            "text/plain": [
              "Message     0\n",
              "Category    0\n",
              "dtype: int64"
            ]
          },
          "metadata": {},
          "execution_count": 62
        }
      ]
    },
    {
      "cell_type": "markdown",
      "metadata": {
        "id": "oRWCoUPXl2ru"
      },
      "source": [
        "Checking for empty data"
      ]
    },
    {
      "cell_type": "code",
      "metadata": {
        "colab": {
          "base_uri": "https://localhost:8080/"
        },
        "id": "v1qWK_40mIgk",
        "outputId": "d4b8e617-dd15-4dfd-d76f-42518a484b01"
      },
      "source": [
        "(data_combined.Message.str.len() == 0).sum()\n"
      ],
      "execution_count": 63,
      "outputs": [
        {
          "output_type": "execute_result",
          "data": {
            "text/plain": [
              "3"
            ]
          },
          "metadata": {},
          "execution_count": 63
        }
      ]
    },
    {
      "cell_type": "markdown",
      "metadata": {
        "id": "gnfb0klOnN5x"
      },
      "source": [
        "Locating And Removing Empty Strings"
      ]
    },
    {
      "cell_type": "code",
      "metadata": {
        "colab": {
          "base_uri": "https://localhost:8080/"
        },
        "id": "GKJT2zkunT70",
        "outputId": "791104f4-1c04-4aa8-f7ca-e72f770e2c71"
      },
      "source": [
        "# Getting index\n",
        "data_combined[data_combined.Message.str.len() == 0].index\n",
        "\n"
      ],
      "execution_count": 64,
      "outputs": [
        {
          "output_type": "execute_result",
          "data": {
            "text/plain": [
              "Index(['cmds', 'cmds', 'cmds'], dtype='object')"
            ]
          },
          "metadata": {},
          "execution_count": 64
        }
      ]
    },
    {
      "cell_type": "code",
      "metadata": {
        "id": "ly4OxgAhndek"
      },
      "source": [
        "# Removing the empty strings\n",
        "data_combined.drop(['cmds'], inplace=True)"
      ],
      "execution_count": 65,
      "outputs": []
    },
    {
      "cell_type": "code",
      "metadata": {
        "id": "8AZVOxXToA6L",
        "colab": {
          "base_uri": "https://localhost:8080/",
          "height": 235
        },
        "outputId": "64f80030-0064-4fab-a128-fd6b46858dc5"
      },
      "source": [
        "document_ids= range(0, len(data_combined.index))\n",
        "data_combined['DOC_ID']= document_ids\n",
        "data_combined['FILENAMES']= data_combined.index\n",
        "data_combined.set_index('DOC_ID', inplace=True)\n",
        "data_combined.tail()"
      ],
      "execution_count": 95,
      "outputs": [
        {
          "output_type": "execute_result",
          "data": {
            "text/html": [
              "<div>\n",
              "<style scoped>\n",
              "    .dataframe tbody tr th:only-of-type {\n",
              "        vertical-align: middle;\n",
              "    }\n",
              "\n",
              "    .dataframe tbody tr th {\n",
              "        vertical-align: top;\n",
              "    }\n",
              "\n",
              "    .dataframe thead th {\n",
              "        text-align: right;\n",
              "    }\n",
              "</style>\n",
              "<table border=\"1\" class=\"dataframe\">\n",
              "  <thead>\n",
              "    <tr style=\"text-align: right;\">\n",
              "      <th></th>\n",
              "      <th>Message</th>\n",
              "      <th>Category</th>\n",
              "      <th>FILENAMES</th>\n",
              "    </tr>\n",
              "    <tr>\n",
              "      <th>DOC_ID</th>\n",
              "      <th></th>\n",
              "      <th></th>\n",
              "      <th></th>\n",
              "    </tr>\n",
              "  </thead>\n",
              "  <tbody>\n",
              "    <tr>\n",
              "      <th>5791</th>\n",
              "      <td>On Thu, 2002-08-15 at 17:53, Jesse wrote:\\n\\n&gt;...</td>\n",
              "      <td>0</td>\n",
              "      <td>5791</td>\n",
              "    </tr>\n",
              "    <tr>\n",
              "      <th>5792</th>\n",
              "      <td>Hello Gary,\\n\\n\\n\\n\\n\\nUh, plague is not actio...</td>\n",
              "      <td>0</td>\n",
              "      <td>5792</td>\n",
              "    </tr>\n",
              "    <tr>\n",
              "      <th>5793</th>\n",
              "      <td>\\n\\n\\n\\n&gt; -----Original Message-----\\n\\n&gt; From...</td>\n",
              "      <td>0</td>\n",
              "      <td>5793</td>\n",
              "    </tr>\n",
              "    <tr>\n",
              "      <th>5794</th>\n",
              "      <td>On Tue, Jul 23, 2002 at 03:43:24PM -0400, rODb...</td>\n",
              "      <td>0</td>\n",
              "      <td>5794</td>\n",
              "    </tr>\n",
              "    <tr>\n",
              "      <th>5795</th>\n",
              "      <td>On Friday, July 26, 2002, at 12:19 PM, James R...</td>\n",
              "      <td>0</td>\n",
              "      <td>5795</td>\n",
              "    </tr>\n",
              "  </tbody>\n",
              "</table>\n",
              "</div>"
            ],
            "text/plain": [
              "                                                  Message  Category  FILENAMES\n",
              "DOC_ID                                                                        \n",
              "5791    On Thu, 2002-08-15 at 17:53, Jesse wrote:\\n\\n>...         0       5791\n",
              "5792    Hello Gary,\\n\\n\\n\\n\\n\\nUh, plague is not actio...         0       5792\n",
              "5793    \\n\\n\\n\\n> -----Original Message-----\\n\\n> From...         0       5793\n",
              "5794    On Tue, Jul 23, 2002 at 03:43:24PM -0400, rODb...         0       5794\n",
              "5795    On Friday, July 26, 2002, at 12:19 PM, James R...         0       5795"
            ]
          },
          "metadata": {},
          "execution_count": 95
        }
      ]
    },
    {
      "cell_type": "markdown",
      "metadata": {
        "id": "8bgeyAHdrzXT"
      },
      "source": [
        "Saving Data"
      ]
    },
    {
      "cell_type": "code",
      "metadata": {
        "id": "3u9w_RURrut9"
      },
      "source": [
        "data_combined.to_json(DATA_JSON_FILE)"
      ],
      "execution_count": 67,
      "outputs": []
    },
    {
      "cell_type": "markdown",
      "metadata": {
        "id": "VLPzgbRWtPA6"
      },
      "source": [
        "## DATA VISUALIZATION"
      ]
    },
    {
      "cell_type": "markdown",
      "metadata": {
        "id": "0286GvBbtX31"
      },
      "source": [
        "PIE CHART"
      ]
    },
    {
      "cell_type": "code",
      "metadata": {
        "colab": {
          "base_uri": "https://localhost:8080/",
          "height": 405
        },
        "id": "2uWjOZXxtcZ5",
        "outputId": "d68e2fd7-3274-4ee2-9e57-f06d1acaef6a"
      },
      "source": [
        "#  Storing amounts\n",
        "amt_ham, amt_spam= data_combined.Category.value_counts()\n",
        "category_names = ['Spam', 'Not Spam']\n",
        "sizes = [amt_spam, amt_ham]\n",
        "\n",
        "plt.figure(figsize=(2, 2), dpi=227)\n",
        "plt.pie(sizes, labels=category_names, textprops={'fontsize': 6}, startangle=90, \n",
        "       autopct='%1.0f%%',  explode = [0.2, 0])\n",
        "plt.show()"
      ],
      "execution_count": 68,
      "outputs": [
        {
          "output_type": "display_data",
          "data": {
            "image/png": "[encoded data removed]",
            "text/plain": [
              "<Figure size 454x454 with 1 Axes>"
            ]
          },
          "metadata": {}
        }
      ]
    },
    {
      "cell_type": "markdown",
      "metadata": {
        "id": "Ch5n3VtkwGXM"
      },
      "source": [
        "DONUT"
      ]
    },
    {
      "cell_type": "code",
      "metadata": {
        "colab": {
          "base_uri": "https://localhost:8080/",
          "height": 405
        },
        "id": "XAxzsfN1xGKH",
        "outputId": "db7cc237-c601-4c00-d9e1-85177d6ca8b2"
      },
      "source": [
        "\n",
        "custom_colours = ['#ff7675', '#74b9ff']\n",
        "plt.figure(figsize=(2, 2), dpi=227)\n",
        "plt.pie(sizes, labels=category_names, textprops={'fontsize': 6}, startangle=90,autopct='%1.0f%%', colors=custom_colours, pctdistance=0.8, explode=[0.1,0.1])\n",
        "\n",
        "# draw circle\n",
        "centre_circle = plt.Circle((0, 0), radius=0.6, fc='white')\n",
        "plt.gca().add_artist(centre_circle)\n",
        "\n",
        "plt.show()"
      ],
      "execution_count": 69,
      "outputs": [
        {
          "output_type": "display_data",
          "data": {
            "image/png": "[encoded data removed]",
            "text/plain": [
              "<Figure size 454x454 with 1 Axes>"
            ]
          },
          "metadata": {}
        }
      ]
    },
    {
      "cell_type": "markdown",
      "metadata": {
        "id": "fSS272pRyqtd"
      },
      "source": [
        "## TEXT PREPROCESSING (NLTK )"
      ]
    },
    {
      "cell_type": "code",
      "metadata": {
        "id": "EA7mRdrSxJvn",
        "colab": {
          "base_uri": "https://localhost:8080/"
        },
        "outputId": "b3111cc4-251c-4bbf-e75f-fd137c9c0e4f"
      },
      "source": [
        "### Download the NLTK Resources (Tokenizer & Stopwords)\n",
        "# Punkt is a efficient tokkenizer\n",
        "nltk.download('punkt')\n",
        "# Stopwords is a file containing set of all the stopwords. Useflwords= All-Stopwords\n",
        "nltk.download('stopwords')\n"
      ],
      "execution_count": 70,
      "outputs": [
        {
          "output_type": "stream",
          "name": "stdout",
          "text": [
            "[nltk_data] Downloading package punkt to /root/nltk_data...\n",
            "[nltk_data]   Package punkt is already up-to-date!\n",
            "[nltk_data] Downloading package stopwords to /root/nltk_data...\n",
            "[nltk_data]   Package stopwords is already up-to-date!\n"
          ]
        },
        {
          "output_type": "execute_result",
          "data": {
            "text/plain": [
              "True"
            ]
          },
          "metadata": {},
          "execution_count": 70
        }
      ]
    },
    {
      "cell_type": "markdown",
      "metadata": {
        "id": "059op3NOzriQ"
      },
      "source": [
        "Words Preprocessing"
      ]
    },
    {
      "cell_type": "code",
      "metadata": {
        "id": "UyU0fwRazuBq"
      },
      "source": [
        "# Function For tokkenizng stemming, removing Html, use beautiful soup(from bs4 import BeautifulSoup)\n",
        "\n",
        "def clean_msg_no_html(Message, stemmer=PorterStemmer(), stop_words=set(stopwords.words('english'))):\n",
        "  soup= BeautifulSoup(Message, 'html.parser')\n",
        "  cleaned_text= soup.get_text()\n",
        "\n",
        "  words= word_tokenize(cleaned_text.lower())\n",
        "  filtered_words=[]\n",
        "  # removing stopwords\n",
        "  for word in words:\n",
        "    if word not in stop_words and word.isalpha():\n",
        "      filtered_words.append(word)\n",
        "\n",
        "  return filtered_words\n",
        "  "
      ],
      "execution_count": 71,
      "outputs": []
    },
    {
      "cell_type": "code",
      "metadata": {
        "colab": {
          "base_uri": "https://localhost:8080/"
        },
        "id": "RSC8wGDZ10w3",
        "outputId": "a9e68706-f2d2-4ea7-99bf-f8b1a750b72f"
      },
      "source": [
        "# Applying the clean func on all data\n",
        "# use apply() on all the messages in the dataframe\n",
        "nested_list_cleaned = data_combined.Message.apply(clean_msg_no_html)\n"
      ],
      "execution_count": 72,
      "outputs": [
        {
          "output_type": "stream",
          "name": "stderr",
          "text": [
            "/usr/local/lib/python3.7/dist-packages/bs4/__init__.py:336: UserWarning: \"http://www.post-gazette.com/columnists/20020905brian5\n",
            "\" looks like a URL. Beautiful Soup is not an HTTP client. You should probably use an HTTP client like requests to get the document behind the URL, and feed that document to Beautiful Soup.\n",
            "  ' that document to Beautiful Soup.' % decoded_markup\n"
          ]
        }
      ]
    },
    {
      "cell_type": "code",
      "metadata": {
        "colab": {
          "base_uri": "https://localhost:8080/"
        },
        "id": "Utj0k3Lj26Fx",
        "outputId": "1e65285e-8638-4a2c-a722-1a2c0433c0a6"
      },
      "source": [
        "nested_list_cleaned.tail()"
      ],
      "execution_count": 73,
      "outputs": [
        {
          "output_type": "execute_result",
          "data": {
            "text/plain": [
              "DOC_ID\n",
              "5791    [thu, jesse, wrote, thu, aug, luis, villa, wro...\n",
              "5792    [hello, gary, uh, plague, action, one, problem...\n",
              "5793    [message, matthias, saou, mailto, matthias, se...\n",
              "5794    [tue, jul, rodbegbie, wrote, quite, clear, lis...\n",
              "5795    [friday, july, pm, james, rogers, wrote, fri, ...\n",
              "Name: Message, dtype: object"
            ]
          },
          "metadata": {},
          "execution_count": 73
        }
      ]
    },
    {
      "cell_type": "markdown",
      "metadata": {
        "id": "F6hc75hM4uwu"
      },
      "source": [
        "Converting Nested List Into DataFrame\n"
      ]
    },
    {
      "cell_type": "code",
      "metadata": {
        "id": "obpc11Ih4liu"
      },
      "source": [
        "doc_ids_spam = data_combined[data_combined.Category == 1].index\n",
        "doc_ids_ham = data_combined[data_combined.Category == 0].index\n",
        "\n",
        "# separating the lists of ham and spam\n",
        "nested_list_cleaned_ham= nested_list_cleaned.loc[doc_ids_ham]\n",
        "nested_list_cleaned_spam= nested_list_cleaned.loc[doc_ids_spam]\n",
        "\n"
      ],
      "execution_count": 74,
      "outputs": []
    },
    {
      "cell_type": "code",
      "metadata": {
        "colab": {
          "base_uri": "https://localhost:8080/"
        },
        "id": "495NYG735B7X",
        "outputId": "616ce905-f168-4b88-e808-37df37dafa02"
      },
      "source": [
        "nested_list_cleaned_ham "
      ],
      "execution_count": 75,
      "outputs": [
        {
          "output_type": "execute_result",
          "data": {
            "text/plain": [
              "DOC_ID\n",
              "1896    [tue, aug, voices, made, matt, sergeant, write...\n",
              "1897    [know, week, catalogue, hokey, changed, back, ...\n",
              "1898    [hijacker, high, dalal, mughrabi, palestinian,...\n",
              "1899    [matthias, saou, matthias, also, install, xmms...\n",
              "1900    [thought, pass, favorite, radio, station, rale...\n",
              "                              ...                        \n",
              "5791    [thu, jesse, wrote, thu, aug, luis, villa, wro...\n",
              "5792    [hello, gary, uh, plague, action, one, problem...\n",
              "5793    [message, matthias, saou, mailto, matthias, se...\n",
              "5794    [tue, jul, rodbegbie, wrote, quite, clear, lis...\n",
              "5795    [friday, july, pm, james, rogers, wrote, fri, ...\n",
              "Name: Message, Length: 3900, dtype: object"
            ]
          },
          "metadata": {},
          "execution_count": 75
        }
      ]
    },
    {
      "cell_type": "code",
      "metadata": {
        "colab": {
          "base_uri": "https://localhost:8080/"
        },
        "id": "panc_i3k5phv",
        "outputId": "965b3e19-c369-408f-a10d-c2abce76e997"
      },
      "source": [
        "nested_list_cleaned_spam"
      ],
      "execution_count": 76,
      "outputs": [
        {
          "output_type": "execute_result",
          "data": {
            "text/plain": [
              "DOC_ID\n",
              "0       [fight, risk, cancer, http, slim, guaranteed, ...\n",
              "1       [register, domains, new, domain, names, finall...\n",
              "2       [take, control, computer, software, symantec, ...\n",
              "3       [free, personal, business, grants, qualify, le...\n",
              "4       [classic, wines, bottles, premium, wine, elega...\n",
              "                              ...                        \n",
              "1891    [remove, see, work, company, submits, web, sit...\n",
              "1892    [html, public, html, link, none, active, none,...\n",
              "1893    [provide, businesses, types, opportunity, hass...\n",
              "1894    [dear, homeowner, main, verdana, arial, helvet...\n",
              "1895    [hi, steph, found, talent, looking, check, fou...\n",
              "Name: Message, Length: 1896, dtype: object"
            ]
          },
          "metadata": {},
          "execution_count": 76
        }
      ]
    },
    {
      "cell_type": "code",
      "metadata": {
        "colab": {
          "base_uri": "https://localhost:8080/"
        },
        "id": "XukNeF3p5wNo",
        "outputId": "b88cd655-a89a-4ad2-dc4e-99100a20a33f"
      },
      "source": [
        "flat_list_ham = [item for sublist in nested_list_cleaned_ham for item in sublist]\n",
        "flat_list_ham\n",
        "nonspammy_words = pd.Series(flat_list_ham).value_counts()\n",
        "\n",
        "\n",
        "nonspammy_words # total number of unique words in the non-spam messages"
      ],
      "execution_count": 77,
      "outputs": [
        {
          "output_type": "execute_result",
          "data": {
            "text/plain": [
              "http           6607\n",
              "list           2660\n",
              "one            2246\n",
              "would          2003\n",
              "get            1778\n",
              "               ... \n",
              "parmet            1\n",
              "briscoe           1\n",
              "relaunch          1\n",
              "unchangable       1\n",
              "ucsd              1\n",
              "Length: 30011, dtype: int64"
            ]
          },
          "metadata": {},
          "execution_count": 77
        }
      ]
    },
    {
      "cell_type": "code",
      "metadata": {
        "colab": {
          "base_uri": "https://localhost:8080/"
        },
        "id": "4YSGjU7O6WEz",
        "outputId": "1c82483a-d20a-4c14-d291-4dc1dd01166e"
      },
      "source": [
        "flat_list_spam = [item for sublist in nested_list_cleaned_spam for item in sublist]\n",
        "flat_list_spam\n",
        "spammy_words = pd.Series(flat_list_spam).value_counts()\n",
        "\n",
        "\n",
        "spammy_words # total number of unique words in the non-spam messages"
      ],
      "execution_count": 78,
      "outputs": [
        {
          "output_type": "execute_result",
          "data": {
            "text/plain": [
              "http             2906\n",
              "email            2779\n",
              "free             2553\n",
              "click            1945\n",
              "please           1814\n",
              "                 ... \n",
              "webdunia            1\n",
              "workshops           1\n",
              "feefor              1\n",
              "multinational       1\n",
              "ccffff              1\n",
              "Length: 18064, dtype: int64"
            ]
          },
          "metadata": {},
          "execution_count": 78
        }
      ]
    },
    {
      "cell_type": "markdown",
      "metadata": {
        "id": "opt8AfbR9Ukg"
      },
      "source": [
        "### Creating a Vocabulary"
      ]
    },
    {
      "cell_type": "code",
      "metadata": {
        "colab": {
          "base_uri": "https://localhost:8080/"
        },
        "id": "1ozzzYOR65Rm",
        "outputId": "3cad687c-cdd7-4ae2-8355-6e86f07b6eb3"
      },
      "source": [
        "# This vocab will consist of top, most used words in our dataset\n",
        "stemmed_nested_list = data_combined.Message.apply(clean_msg_no_html)\n",
        "flat_stemmed_list = [item for sublist in stemmed_nested_list for item in sublist]"
      ],
      "execution_count": 79,
      "outputs": [
        {
          "output_type": "stream",
          "name": "stderr",
          "text": [
            "/usr/local/lib/python3.7/dist-packages/bs4/__init__.py:336: UserWarning: \"http://www.post-gazette.com/columnists/20020905brian5\n",
            "\" looks like a URL. Beautiful Soup is not an HTTP client. You should probably use an HTTP client like requests to get the document behind the URL, and feed that document to Beautiful Soup.\n",
            "  ' that document to Beautiful Soup.' % decoded_markup\n"
          ]
        }
      ]
    },
    {
      "cell_type": "code",
      "metadata": {
        "colab": {
          "base_uri": "https://localhost:8080/"
        },
        "id": "2vlhUcwc9hNF",
        "outputId": "ced549c5-c2ec-46aa-ef60-e5b80062ccb3"
      },
      "source": [
        "unique_words = pd.Series(flat_stemmed_list).value_counts()\n",
        "print('Nr of unique words', unique_words.shape[0])\n",
        "unique_words.head()"
      ],
      "execution_count": 80,
      "outputs": [
        {
          "output_type": "stream",
          "name": "stdout",
          "text": [
            "Nr of unique words 38223\n"
          ]
        },
        {
          "output_type": "execute_result",
          "data": {
            "text/plain": [
              "http     9513\n",
              "list     4212\n",
              "email    3998\n",
              "one      3750\n",
              "get      3477\n",
              "dtype: int64"
            ]
          },
          "metadata": {},
          "execution_count": 80
        }
      ]
    },
    {
      "cell_type": "code",
      "metadata": {
        "colab": {
          "base_uri": "https://localhost:8080/"
        },
        "id": "oeqMB2bK99lz",
        "outputId": "a12c9c23-ad51-4332-cfa3-b320ed894cce"
      },
      "source": [
        "#Vocab Size is defined in Constant. VocabSize is equal to top frequent words\n",
        "frequent_words = unique_words[0:VOCAB_SIZE]\n",
        "frequent_words\n"
      ],
      "execution_count": 81,
      "outputs": [
        {
          "output_type": "execute_result",
          "data": {
            "text/plain": [
              "http         9513\n",
              "list         4212\n",
              "email        3998\n",
              "one          3750\n",
              "get          3477\n",
              "             ... \n",
              "serve          53\n",
              "spread         53\n",
              "creative       53\n",
              "logs           53\n",
              "developer      53\n",
              "Length: 2500, dtype: int64"
            ]
          },
          "metadata": {},
          "execution_count": 81
        }
      ]
    },
    {
      "cell_type": "code",
      "metadata": {
        "colab": {
          "base_uri": "https://localhost:8080/",
          "height": 235
        },
        "id": "Y0r_WHFO_Scn",
        "outputId": "15748aad-7015-4848-d8b7-671d0b7b8d5c"
      },
      "source": [
        "# Converting the list to DataFrame\n",
        "word_ids = list(range(0, VOCAB_SIZE))\n",
        "vocab = pd.DataFrame({'VOCAB_WORD': frequent_words.index.values}, index=word_ids)\n",
        "vocab.index.name = 'WORD_ID'\n",
        "vocab.head()"
      ],
      "execution_count": 82,
      "outputs": [
        {
          "output_type": "execute_result",
          "data": {
            "text/html": [
              "<div>\n",
              "<style scoped>\n",
              "    .dataframe tbody tr th:only-of-type {\n",
              "        vertical-align: middle;\n",
              "    }\n",
              "\n",
              "    .dataframe tbody tr th {\n",
              "        vertical-align: top;\n",
              "    }\n",
              "\n",
              "    .dataframe thead th {\n",
              "        text-align: right;\n",
              "    }\n",
              "</style>\n",
              "<table border=\"1\" class=\"dataframe\">\n",
              "  <thead>\n",
              "    <tr style=\"text-align: right;\">\n",
              "      <th></th>\n",
              "      <th>VOCAB_WORD</th>\n",
              "    </tr>\n",
              "    <tr>\n",
              "      <th>WORD_ID</th>\n",
              "      <th></th>\n",
              "    </tr>\n",
              "  </thead>\n",
              "  <tbody>\n",
              "    <tr>\n",
              "      <th>0</th>\n",
              "      <td>http</td>\n",
              "    </tr>\n",
              "    <tr>\n",
              "      <th>1</th>\n",
              "      <td>list</td>\n",
              "    </tr>\n",
              "    <tr>\n",
              "      <th>2</th>\n",
              "      <td>email</td>\n",
              "    </tr>\n",
              "    <tr>\n",
              "      <th>3</th>\n",
              "      <td>one</td>\n",
              "    </tr>\n",
              "    <tr>\n",
              "      <th>4</th>\n",
              "      <td>get</td>\n",
              "    </tr>\n",
              "  </tbody>\n",
              "</table>\n",
              "</div>"
            ],
            "text/plain": [
              "        VOCAB_WORD\n",
              "WORD_ID           \n",
              "0             http\n",
              "1             list\n",
              "2            email\n",
              "3              one\n",
              "4              get"
            ]
          },
          "metadata": {},
          "execution_count": 82
        }
      ]
    },
    {
      "cell_type": "code",
      "metadata": {
        "id": "d4mPObQJ_gku"
      },
      "source": [
        "# Vocab \n",
        "vocab.to_csv(WORD_ID_FILE, index_label=vocab.index.name, header=vocab.VOCAB_WORD.name)"
      ],
      "execution_count": 83,
      "outputs": []
    },
    {
      "cell_type": "markdown",
      "metadata": {
        "id": "jBGILTinnDL7"
      },
      "source": [
        "## Generate Features & a Sparse Matrix"
      ]
    },
    {
      "cell_type": "code",
      "metadata": {
        "colab": {
          "base_uri": "https://localhost:8080/"
        },
        "id": "q6pwYvbrquos",
        "outputId": "4bbf84aa-6f72-4c66-e904-7682497c285f"
      },
      "source": [
        "type(stemmed_nested_list)"
      ],
      "execution_count": 84,
      "outputs": [
        {
          "output_type": "execute_result",
          "data": {
            "text/plain": [
              "pandas.core.series.Series"
            ]
          },
          "metadata": {},
          "execution_count": 84
        }
      ]
    },
    {
      "cell_type": "code",
      "metadata": {
        "id": "v8TSRJOsq35K"
      },
      "source": [
        "# converting series to dataframe (list->individual words)\n",
        "# stemmed_nested_list = data_combined.Message.apply(clean_msg_no_html)-This contains series of list of words"
      ],
      "execution_count": 85,
      "outputs": []
    },
    {
      "cell_type": "code",
      "metadata": {
        "colab": {
          "base_uri": "https://localhost:8080/",
          "height": 304
        },
        "id": "iL_yye1cq9dY",
        "outputId": "70da9734-9534-4513-f7ae-b1f70c03da2d"
      },
      "source": [
        "stemmed_nested_list2 = data_combined.Message.apply(clean_msg_no_html)\n",
        "word_columns_df= pd.DataFrame.from_records(stemmed_nested_list2.tolist()) #from_records accepts list, tupple, dict etc and makes it a df\n",
        "word_columns_df.head()"
      ],
      "execution_count": 88,
      "outputs": [
        {
          "output_type": "stream",
          "name": "stderr",
          "text": [
            "/usr/local/lib/python3.7/dist-packages/bs4/__init__.py:336: UserWarning: \"http://www.post-gazette.com/columnists/20020905brian5\n",
            "\" looks like a URL. Beautiful Soup is not an HTTP client. You should probably use an HTTP client like requests to get the document behind the URL, and feed that document to Beautiful Soup.\n",
            "  ' that document to Beautiful Soup.' % decoded_markup\n"
          ]
        },
        {
          "output_type": "execute_result",
          "data": {
            "text/html": [
              "<div>\n",
              "<style scoped>\n",
              "    .dataframe tbody tr th:only-of-type {\n",
              "        vertical-align: middle;\n",
              "    }\n",
              "\n",
              "    .dataframe tbody tr th {\n",
              "        vertical-align: top;\n",
              "    }\n",
              "\n",
              "    .dataframe thead th {\n",
              "        text-align: right;\n",
              "    }\n",
              "</style>\n",
              "<table border=\"1\" class=\"dataframe\">\n",
              "  <thead>\n",
              "    <tr style=\"text-align: right;\">\n",
              "      <th></th>\n",
              "      <th>0</th>\n",
              "      <th>1</th>\n",
              "      <th>2</th>\n",
              "      <th>3</th>\n",
              "      <th>4</th>\n",
              "      <th>5</th>\n",
              "      <th>6</th>\n",
              "      <th>7</th>\n",
              "      <th>8</th>\n",
              "      <th>9</th>\n",
              "      <th>10</th>\n",
              "      <th>11</th>\n",
              "      <th>12</th>\n",
              "      <th>13</th>\n",
              "      <th>14</th>\n",
              "      <th>15</th>\n",
              "      <th>16</th>\n",
              "      <th>17</th>\n",
              "      <th>18</th>\n",
              "      <th>19</th>\n",
              "      <th>20</th>\n",
              "      <th>21</th>\n",
              "      <th>22</th>\n",
              "      <th>23</th>\n",
              "      <th>24</th>\n",
              "      <th>25</th>\n",
              "      <th>26</th>\n",
              "      <th>27</th>\n",
              "      <th>28</th>\n",
              "      <th>29</th>\n",
              "      <th>30</th>\n",
              "      <th>31</th>\n",
              "      <th>32</th>\n",
              "      <th>33</th>\n",
              "      <th>34</th>\n",
              "      <th>35</th>\n",
              "      <th>36</th>\n",
              "      <th>37</th>\n",
              "      <th>38</th>\n",
              "      <th>39</th>\n",
              "      <th>...</th>\n",
              "      <th>7621</th>\n",
              "      <th>7622</th>\n",
              "      <th>7623</th>\n",
              "      <th>7624</th>\n",
              "      <th>7625</th>\n",
              "      <th>7626</th>\n",
              "      <th>7627</th>\n",
              "      <th>7628</th>\n",
              "      <th>7629</th>\n",
              "      <th>7630</th>\n",
              "      <th>7631</th>\n",
              "      <th>7632</th>\n",
              "      <th>7633</th>\n",
              "      <th>7634</th>\n",
              "      <th>7635</th>\n",
              "      <th>7636</th>\n",
              "      <th>7637</th>\n",
              "      <th>7638</th>\n",
              "      <th>7639</th>\n",
              "      <th>7640</th>\n",
              "      <th>7641</th>\n",
              "      <th>7642</th>\n",
              "      <th>7643</th>\n",
              "      <th>7644</th>\n",
              "      <th>7645</th>\n",
              "      <th>7646</th>\n",
              "      <th>7647</th>\n",
              "      <th>7648</th>\n",
              "      <th>7649</th>\n",
              "      <th>7650</th>\n",
              "      <th>7651</th>\n",
              "      <th>7652</th>\n",
              "      <th>7653</th>\n",
              "      <th>7654</th>\n",
              "      <th>7655</th>\n",
              "      <th>7656</th>\n",
              "      <th>7657</th>\n",
              "      <th>7658</th>\n",
              "      <th>7659</th>\n",
              "      <th>7660</th>\n",
              "    </tr>\n",
              "  </thead>\n",
              "  <tbody>\n",
              "    <tr>\n",
              "      <th>0</th>\n",
              "      <td>fight</td>\n",
              "      <td>risk</td>\n",
              "      <td>cancer</td>\n",
              "      <td>http</td>\n",
              "      <td>slim</td>\n",
              "      <td>guaranteed</td>\n",
              "      <td>lose</td>\n",
              "      <td>lbs</td>\n",
              "      <td>days</td>\n",
              "      <td>http</td>\n",
              "      <td>get</td>\n",
              "      <td>child</td>\n",
              "      <td>support</td>\n",
              "      <td>deserve</td>\n",
              "      <td>free</td>\n",
              "      <td>legal</td>\n",
              "      <td>advice</td>\n",
              "      <td>http</td>\n",
              "      <td>join</td>\n",
              "      <td>web</td>\n",
              "      <td>fastest</td>\n",
              "      <td>growing</td>\n",
              "      <td>singles</td>\n",
              "      <td>community</td>\n",
              "      <td>http</td>\n",
              "      <td>start</td>\n",
              "      <td>private</td>\n",
              "      <td>photo</td>\n",
              "      <td>album</td>\n",
              "      <td>online</td>\n",
              "      <td>http</td>\n",
              "      <td>wonderful</td>\n",
              "      <td>day</td>\n",
              "      <td>offer</td>\n",
              "      <td>manager</td>\n",
              "      <td>prizemama</td>\n",
              "      <td>wish</td>\n",
              "      <td>leave</td>\n",
              "      <td>list</td>\n",
              "      <td>please</td>\n",
              "      <td>...</td>\n",
              "      <td>None</td>\n",
              "      <td>None</td>\n",
              "      <td>None</td>\n",
              "      <td>None</td>\n",
              "      <td>None</td>\n",
              "      <td>None</td>\n",
              "      <td>None</td>\n",
              "      <td>None</td>\n",
              "      <td>None</td>\n",
              "      <td>None</td>\n",
              "      <td>None</td>\n",
              "      <td>None</td>\n",
              "      <td>None</td>\n",
              "      <td>None</td>\n",
              "      <td>None</td>\n",
              "      <td>None</td>\n",
              "      <td>None</td>\n",
              "      <td>None</td>\n",
              "      <td>None</td>\n",
              "      <td>None</td>\n",
              "      <td>None</td>\n",
              "      <td>None</td>\n",
              "      <td>None</td>\n",
              "      <td>None</td>\n",
              "      <td>None</td>\n",
              "      <td>None</td>\n",
              "      <td>None</td>\n",
              "      <td>None</td>\n",
              "      <td>None</td>\n",
              "      <td>None</td>\n",
              "      <td>None</td>\n",
              "      <td>None</td>\n",
              "      <td>None</td>\n",
              "      <td>None</td>\n",
              "      <td>None</td>\n",
              "      <td>None</td>\n",
              "      <td>None</td>\n",
              "      <td>None</td>\n",
              "      <td>None</td>\n",
              "      <td>None</td>\n",
              "    </tr>\n",
              "    <tr>\n",
              "      <th>1</th>\n",
              "      <td>register</td>\n",
              "      <td>domains</td>\n",
              "      <td>new</td>\n",
              "      <td>domain</td>\n",
              "      <td>names</td>\n",
              "      <td>finally</td>\n",
              "      <td>available</td>\n",
              "      <td>general</td>\n",
              "      <td>public</td>\n",
              "      <td>discount</td>\n",
              "      <td>prices</td>\n",
              "      <td>register</td>\n",
              "      <td>one</td>\n",
              "      <td>exciting</td>\n",
              "      <td>new</td>\n",
              "      <td>domain</td>\n",
              "      <td>names</td>\n",
              "      <td>well</td>\n",
              "      <td>original</td>\n",
              "      <td>names</td>\n",
              "      <td>brand</td>\n",
              "      <td>new</td>\n",
              "      <td>domain</td>\n",
              "      <td>extensions</td>\n",
              "      <td>recently</td>\n",
              "      <td>approved</td>\n",
              "      <td>icann</td>\n",
              "      <td>rights</td>\n",
              "      <td>original</td>\n",
              "      <td>domain</td>\n",
              "      <td>names</td>\n",
              "      <td>biggest</td>\n",
              "      <td>benefit</td>\n",
              "      <td>domain</td>\n",
              "      <td>names</td>\n",
              "      <td>currently</td>\n",
              "      <td>available</td>\n",
              "      <td>much</td>\n",
              "      <td>easier</td>\n",
              "      <td>register</td>\n",
              "      <td>...</td>\n",
              "      <td>None</td>\n",
              "      <td>None</td>\n",
              "      <td>None</td>\n",
              "      <td>None</td>\n",
              "      <td>None</td>\n",
              "      <td>None</td>\n",
              "      <td>None</td>\n",
              "      <td>None</td>\n",
              "      <td>None</td>\n",
              "      <td>None</td>\n",
              "      <td>None</td>\n",
              "      <td>None</td>\n",
              "      <td>None</td>\n",
              "      <td>None</td>\n",
              "      <td>None</td>\n",
              "      <td>None</td>\n",
              "      <td>None</td>\n",
              "      <td>None</td>\n",
              "      <td>None</td>\n",
              "      <td>None</td>\n",
              "      <td>None</td>\n",
              "      <td>None</td>\n",
              "      <td>None</td>\n",
              "      <td>None</td>\n",
              "      <td>None</td>\n",
              "      <td>None</td>\n",
              "      <td>None</td>\n",
              "      <td>None</td>\n",
              "      <td>None</td>\n",
              "      <td>None</td>\n",
              "      <td>None</td>\n",
              "      <td>None</td>\n",
              "      <td>None</td>\n",
              "      <td>None</td>\n",
              "      <td>None</td>\n",
              "      <td>None</td>\n",
              "      <td>None</td>\n",
              "      <td>None</td>\n",
              "      <td>None</td>\n",
              "      <td>None</td>\n",
              "    </tr>\n",
              "    <tr>\n",
              "      <th>2</th>\n",
              "      <td>take</td>\n",
              "      <td>control</td>\n",
              "      <td>computer</td>\n",
              "      <td>software</td>\n",
              "      <td>symantec</td>\n",
              "      <td>systemworks</td>\n",
              "      <td>software</td>\n",
              "      <td>special</td>\n",
              "      <td>package</td>\n",
              "      <td>includes</td>\n",
              "      <td>six</td>\n",
              "      <td>yes</td>\n",
              "      <td>utilities</td>\n",
              "      <td>special</td>\n",
              "      <td>low</td>\n",
              "      <td>price</td>\n",
              "      <td>software</td>\n",
              "      <td>protect</td>\n",
              "      <td>computer</td>\n",
              "      <td>unwanted</td>\n",
              "      <td>hazardous</td>\n",
              "      <td>viruses</td>\n",
              "      <td>help</td>\n",
              "      <td>secure</td>\n",
              "      <td>private</td>\n",
              "      <td>valuable</td>\n",
              "      <td>information</td>\n",
              "      <td>allow</td>\n",
              "      <td>transfer</td>\n",
              "      <td>files</td>\n",
              "      <td>send</td>\n",
              "      <td>safely</td>\n",
              "      <td>backup</td>\n",
              "      <td>data</td>\n",
              "      <td>quick</td>\n",
              "      <td>easily</td>\n",
              "      <td>improve</td>\n",
              "      <td>pc</td>\n",
              "      <td>performance</td>\n",
              "      <td>integral</td>\n",
              "      <td>...</td>\n",
              "      <td>None</td>\n",
              "      <td>None</td>\n",
              "      <td>None</td>\n",
              "      <td>None</td>\n",
              "      <td>None</td>\n",
              "      <td>None</td>\n",
              "      <td>None</td>\n",
              "      <td>None</td>\n",
              "      <td>None</td>\n",
              "      <td>None</td>\n",
              "      <td>None</td>\n",
              "      <td>None</td>\n",
              "      <td>None</td>\n",
              "      <td>None</td>\n",
              "      <td>None</td>\n",
              "      <td>None</td>\n",
              "      <td>None</td>\n",
              "      <td>None</td>\n",
              "      <td>None</td>\n",
              "      <td>None</td>\n",
              "      <td>None</td>\n",
              "      <td>None</td>\n",
              "      <td>None</td>\n",
              "      <td>None</td>\n",
              "      <td>None</td>\n",
              "      <td>None</td>\n",
              "      <td>None</td>\n",
              "      <td>None</td>\n",
              "      <td>None</td>\n",
              "      <td>None</td>\n",
              "      <td>None</td>\n",
              "      <td>None</td>\n",
              "      <td>None</td>\n",
              "      <td>None</td>\n",
              "      <td>None</td>\n",
              "      <td>None</td>\n",
              "      <td>None</td>\n",
              "      <td>None</td>\n",
              "      <td>None</td>\n",
              "      <td>None</td>\n",
              "    </tr>\n",
              "    <tr>\n",
              "      <th>3</th>\n",
              "      <td>free</td>\n",
              "      <td>personal</td>\n",
              "      <td>business</td>\n",
              "      <td>grants</td>\n",
              "      <td>qualify</td>\n",
              "      <td>least</td>\n",
              "      <td>free</td>\n",
              "      <td>grants</td>\n",
              "      <td>money</td>\n",
              "      <td>guaranteed</td>\n",
              "      <td>day</td>\n",
              "      <td>one</td>\n",
              "      <td>million</td>\n",
              "      <td>dollars</td>\n",
              "      <td>free</td>\n",
              "      <td>government</td>\n",
              "      <td>grants</td>\n",
              "      <td>given</td>\n",
              "      <td>away</td>\n",
              "      <td>people</td>\n",
              "      <td>like</td>\n",
              "      <td>wide</td>\n",
              "      <td>variety</td>\n",
              "      <td>business</td>\n",
              "      <td>personal</td>\n",
              "      <td>needs</td>\n",
              "      <td>dear</td>\n",
              "      <td>grant</td>\n",
              "      <td>seeker</td>\n",
              "      <td>moment</td>\n",
              "      <td>tell</td>\n",
              "      <td>exactly</td>\n",
              "      <td>get</td>\n",
              "      <td>grants</td>\n",
              "      <td>money</td>\n",
              "      <td>given</td>\n",
              "      <td>away</td>\n",
              "      <td>may</td>\n",
              "      <td>thinking</td>\n",
              "      <td>get</td>\n",
              "      <td>...</td>\n",
              "      <td>None</td>\n",
              "      <td>None</td>\n",
              "      <td>None</td>\n",
              "      <td>None</td>\n",
              "      <td>None</td>\n",
              "      <td>None</td>\n",
              "      <td>None</td>\n",
              "      <td>None</td>\n",
              "      <td>None</td>\n",
              "      <td>None</td>\n",
              "      <td>None</td>\n",
              "      <td>None</td>\n",
              "      <td>None</td>\n",
              "      <td>None</td>\n",
              "      <td>None</td>\n",
              "      <td>None</td>\n",
              "      <td>None</td>\n",
              "      <td>None</td>\n",
              "      <td>None</td>\n",
              "      <td>None</td>\n",
              "      <td>None</td>\n",
              "      <td>None</td>\n",
              "      <td>None</td>\n",
              "      <td>None</td>\n",
              "      <td>None</td>\n",
              "      <td>None</td>\n",
              "      <td>None</td>\n",
              "      <td>None</td>\n",
              "      <td>None</td>\n",
              "      <td>None</td>\n",
              "      <td>None</td>\n",
              "      <td>None</td>\n",
              "      <td>None</td>\n",
              "      <td>None</td>\n",
              "      <td>None</td>\n",
              "      <td>None</td>\n",
              "      <td>None</td>\n",
              "      <td>None</td>\n",
              "      <td>None</td>\n",
              "      <td>None</td>\n",
              "    </tr>\n",
              "    <tr>\n",
              "      <th>4</th>\n",
              "      <td>classic</td>\n",
              "      <td>wines</td>\n",
              "      <td>bottles</td>\n",
              "      <td>premium</td>\n",
              "      <td>wine</td>\n",
              "      <td>elegant</td>\n",
              "      <td>wine</td>\n",
              "      <td>glasses</td>\n",
              "      <td>capitano</td>\n",
              "      <td>waiter</td>\n",
              "      <td>corkscrew</td>\n",
              "      <td>marble</td>\n",
              "      <td>bottle</td>\n",
              "      <td>stopper</td>\n",
              "      <td>delicious</td>\n",
              "      <td>gourmet</td>\n",
              "      <td>wine</td>\n",
              "      <td>crackers</td>\n",
              "      <td>member</td>\n",
              "      <td>discounts</td>\n",
              "      <td>additional</td>\n",
              "      <td>wine</td>\n",
              "      <td>selections</td>\n",
              "      <td>cellar</td>\n",
              "      <td>profile</td>\n",
              "      <td>newsletter</td>\n",
              "      <td>total</td>\n",
              "      <td>retail</td>\n",
              "      <td>value</td>\n",
              "      <td>special</td>\n",
              "      <td>offer</td>\n",
              "      <td>special</td>\n",
              "      <td>offer</td>\n",
              "      <td>discriminating</td>\n",
              "      <td>wine</td>\n",
              "      <td>drinker</td>\n",
              "      <td>indulge</td>\n",
              "      <td>love</td>\n",
              "      <td>adventure</td>\n",
              "      <td>discovery</td>\n",
              "      <td>...</td>\n",
              "      <td>None</td>\n",
              "      <td>None</td>\n",
              "      <td>None</td>\n",
              "      <td>None</td>\n",
              "      <td>None</td>\n",
              "      <td>None</td>\n",
              "      <td>None</td>\n",
              "      <td>None</td>\n",
              "      <td>None</td>\n",
              "      <td>None</td>\n",
              "      <td>None</td>\n",
              "      <td>None</td>\n",
              "      <td>None</td>\n",
              "      <td>None</td>\n",
              "      <td>None</td>\n",
              "      <td>None</td>\n",
              "      <td>None</td>\n",
              "      <td>None</td>\n",
              "      <td>None</td>\n",
              "      <td>None</td>\n",
              "      <td>None</td>\n",
              "      <td>None</td>\n",
              "      <td>None</td>\n",
              "      <td>None</td>\n",
              "      <td>None</td>\n",
              "      <td>None</td>\n",
              "      <td>None</td>\n",
              "      <td>None</td>\n",
              "      <td>None</td>\n",
              "      <td>None</td>\n",
              "      <td>None</td>\n",
              "      <td>None</td>\n",
              "      <td>None</td>\n",
              "      <td>None</td>\n",
              "      <td>None</td>\n",
              "      <td>None</td>\n",
              "      <td>None</td>\n",
              "      <td>None</td>\n",
              "      <td>None</td>\n",
              "      <td>None</td>\n",
              "    </tr>\n",
              "  </tbody>\n",
              "</table>\n",
              "<p>5 rows × 7661 columns</p>\n",
              "</div>"
            ],
            "text/plain": [
              "       0         1         2         3     ...  7657  7658  7659  7660\n",
              "0     fight      risk    cancer      http  ...  None  None  None  None\n",
              "1  register   domains       new    domain  ...  None  None  None  None\n",
              "2      take   control  computer  software  ...  None  None  None  None\n",
              "3      free  personal  business    grants  ...  None  None  None  None\n",
              "4   classic     wines   bottles   premium  ...  None  None  None  None\n",
              "\n",
              "[5 rows x 7661 columns]"
            ]
          },
          "metadata": {},
          "execution_count": 88
        }
      ]
    },
    {
      "cell_type": "code",
      "metadata": {
        "colab": {
          "base_uri": "https://localhost:8080/"
        },
        "id": "70srNv88rF6k",
        "outputId": "87b14911-d729-4ebb-89bd-12ab48461c52"
      },
      "source": [
        "word_columns_df.shape"
      ],
      "execution_count": 90,
      "outputs": [
        {
          "output_type": "execute_result",
          "data": {
            "text/plain": [
              "(5796, 7661)"
            ]
          },
          "metadata": {},
          "execution_count": 90
        }
      ]
    },
    {
      "cell_type": "markdown",
      "metadata": {
        "id": "yMgDG1NnufRY"
      },
      "source": [
        "# TESTING AND TRAINING DATA"
      ]
    },
    {
      "cell_type": "markdown",
      "metadata": {
        "id": "9D5BI94uumiK"
      },
      "source": [
        "SPLITTING THE DATA"
      ]
    },
    {
      "cell_type": "code",
      "metadata": {
        "id": "cWjX3DPKuk07"
      },
      "source": [
        "# from sklearn.model import train_test_split\n",
        "X_train, X_test, y_train, y_test = train_test_split(word_columns_df, data_combined.Category, test_size=0.3, random_state=42)"
      ],
      "execution_count": 93,
      "outputs": []
    },
    {
      "cell_type": "code",
      "metadata": {
        "colab": {
          "base_uri": "https://localhost:8080/",
          "height": 284
        },
        "id": "5eOcTH2Ivj8Z",
        "outputId": "846ac652-5682-4037-9558-0ff04ee484c6"
      },
      "source": [
        "X_train.index.name = X_test.index.name = 'DOC_ID'\n",
        "X_train.head()"
      ],
      "execution_count": 94,
      "outputs": [
        {
          "output_type": "execute_result",
          "data": {
            "text/html": [
              "<div>\n",
              "<style scoped>\n",
              "    .dataframe tbody tr th:only-of-type {\n",
              "        vertical-align: middle;\n",
              "    }\n",
              "\n",
              "    .dataframe tbody tr th {\n",
              "        vertical-align: top;\n",
              "    }\n",
              "\n",
              "    .dataframe thead th {\n",
              "        text-align: right;\n",
              "    }\n",
              "</style>\n",
              "<table border=\"1\" class=\"dataframe\">\n",
              "  <thead>\n",
              "    <tr style=\"text-align: right;\">\n",
              "      <th></th>\n",
              "      <th>0</th>\n",
              "      <th>1</th>\n",
              "      <th>2</th>\n",
              "      <th>3</th>\n",
              "      <th>4</th>\n",
              "      <th>5</th>\n",
              "      <th>6</th>\n",
              "      <th>7</th>\n",
              "      <th>8</th>\n",
              "      <th>9</th>\n",
              "      <th>10</th>\n",
              "      <th>11</th>\n",
              "      <th>12</th>\n",
              "      <th>13</th>\n",
              "      <th>14</th>\n",
              "      <th>15</th>\n",
              "      <th>16</th>\n",
              "      <th>17</th>\n",
              "      <th>18</th>\n",
              "      <th>19</th>\n",
              "      <th>20</th>\n",
              "      <th>21</th>\n",
              "      <th>22</th>\n",
              "      <th>23</th>\n",
              "      <th>24</th>\n",
              "      <th>25</th>\n",
              "      <th>26</th>\n",
              "      <th>27</th>\n",
              "      <th>28</th>\n",
              "      <th>29</th>\n",
              "      <th>30</th>\n",
              "      <th>31</th>\n",
              "      <th>32</th>\n",
              "      <th>33</th>\n",
              "      <th>34</th>\n",
              "      <th>35</th>\n",
              "      <th>36</th>\n",
              "      <th>37</th>\n",
              "      <th>38</th>\n",
              "      <th>39</th>\n",
              "      <th>...</th>\n",
              "      <th>7621</th>\n",
              "      <th>7622</th>\n",
              "      <th>7623</th>\n",
              "      <th>7624</th>\n",
              "      <th>7625</th>\n",
              "      <th>7626</th>\n",
              "      <th>7627</th>\n",
              "      <th>7628</th>\n",
              "      <th>7629</th>\n",
              "      <th>7630</th>\n",
              "      <th>7631</th>\n",
              "      <th>7632</th>\n",
              "      <th>7633</th>\n",
              "      <th>7634</th>\n",
              "      <th>7635</th>\n",
              "      <th>7636</th>\n",
              "      <th>7637</th>\n",
              "      <th>7638</th>\n",
              "      <th>7639</th>\n",
              "      <th>7640</th>\n",
              "      <th>7641</th>\n",
              "      <th>7642</th>\n",
              "      <th>7643</th>\n",
              "      <th>7644</th>\n",
              "      <th>7645</th>\n",
              "      <th>7646</th>\n",
              "      <th>7647</th>\n",
              "      <th>7648</th>\n",
              "      <th>7649</th>\n",
              "      <th>7650</th>\n",
              "      <th>7651</th>\n",
              "      <th>7652</th>\n",
              "      <th>7653</th>\n",
              "      <th>7654</th>\n",
              "      <th>7655</th>\n",
              "      <th>7656</th>\n",
              "      <th>7657</th>\n",
              "      <th>7658</th>\n",
              "      <th>7659</th>\n",
              "      <th>7660</th>\n",
              "    </tr>\n",
              "    <tr>\n",
              "      <th>DOC_ID</th>\n",
              "      <th></th>\n",
              "      <th></th>\n",
              "      <th></th>\n",
              "      <th></th>\n",
              "      <th></th>\n",
              "      <th></th>\n",
              "      <th></th>\n",
              "      <th></th>\n",
              "      <th></th>\n",
              "      <th></th>\n",
              "      <th></th>\n",
              "      <th></th>\n",
              "      <th></th>\n",
              "      <th></th>\n",
              "      <th></th>\n",
              "      <th></th>\n",
              "      <th></th>\n",
              "      <th></th>\n",
              "      <th></th>\n",
              "      <th></th>\n",
              "      <th></th>\n",
              "      <th></th>\n",
              "      <th></th>\n",
              "      <th></th>\n",
              "      <th></th>\n",
              "      <th></th>\n",
              "      <th></th>\n",
              "      <th></th>\n",
              "      <th></th>\n",
              "      <th></th>\n",
              "      <th></th>\n",
              "      <th></th>\n",
              "      <th></th>\n",
              "      <th></th>\n",
              "      <th></th>\n",
              "      <th></th>\n",
              "      <th></th>\n",
              "      <th></th>\n",
              "      <th></th>\n",
              "      <th></th>\n",
              "      <th></th>\n",
              "      <th></th>\n",
              "      <th></th>\n",
              "      <th></th>\n",
              "      <th></th>\n",
              "      <th></th>\n",
              "      <th></th>\n",
              "      <th></th>\n",
              "      <th></th>\n",
              "      <th></th>\n",
              "      <th></th>\n",
              "      <th></th>\n",
              "      <th></th>\n",
              "      <th></th>\n",
              "      <th></th>\n",
              "      <th></th>\n",
              "      <th></th>\n",
              "      <th></th>\n",
              "      <th></th>\n",
              "      <th></th>\n",
              "      <th></th>\n",
              "      <th></th>\n",
              "      <th></th>\n",
              "      <th></th>\n",
              "      <th></th>\n",
              "      <th></th>\n",
              "      <th></th>\n",
              "      <th></th>\n",
              "      <th></th>\n",
              "      <th></th>\n",
              "      <th></th>\n",
              "      <th></th>\n",
              "      <th></th>\n",
              "      <th></th>\n",
              "      <th></th>\n",
              "      <th></th>\n",
              "      <th></th>\n",
              "      <th></th>\n",
              "      <th></th>\n",
              "      <th></th>\n",
              "      <th></th>\n",
              "    </tr>\n",
              "  </thead>\n",
              "  <tbody>\n",
              "    <tr>\n",
              "      <th>4844</th>\n",
              "      <td>thu</td>\n",
              "      <td>aug</td>\n",
              "      <td>jehan</td>\n",
              "      <td>thought</td>\n",
              "      <td>said</td>\n",
              "      <td>actually</td>\n",
              "      <td>would</td>\n",
              "      <td>inaccurate</td>\n",
              "      <td>action</td>\n",
              "      <td>way</td>\n",
              "      <td>correct</td>\n",
              "      <td>behavior</td>\n",
              "      <td>would</td>\n",
              "      <td>unsubscribe</td>\n",
              "      <td>mailing</td>\n",
              "      <td>list</td>\n",
              "      <td>wow</td>\n",
              "      <td>think</td>\n",
              "      <td>majority</td>\n",
              "      <td>community</td>\n",
              "      <td>would</td>\n",
              "      <td>disagree</td>\n",
              "      <td>makes</td>\n",
              "      <td>difference</td>\n",
              "      <td>list</td>\n",
              "      <td>whether</td>\n",
              "      <td>run</td>\n",
              "      <td>zdnet</td>\n",
              "      <td>empire</td>\n",
              "      <td>towers</td>\n",
              "      <td>whether</td>\n",
              "      <td>uses</td>\n",
              "      <td>open</td>\n",
              "      <td>proxies</td>\n",
              "      <td>relays</td>\n",
              "      <td>mlm</td>\n",
              "      <td>like</td>\n",
              "      <td>mailman</td>\n",
              "      <td>lyris</td>\n",
              "      <td>either</td>\n",
              "      <td>...</td>\n",
              "      <td>None</td>\n",
              "      <td>None</td>\n",
              "      <td>None</td>\n",
              "      <td>None</td>\n",
              "      <td>None</td>\n",
              "      <td>None</td>\n",
              "      <td>None</td>\n",
              "      <td>None</td>\n",
              "      <td>None</td>\n",
              "      <td>None</td>\n",
              "      <td>None</td>\n",
              "      <td>None</td>\n",
              "      <td>None</td>\n",
              "      <td>None</td>\n",
              "      <td>None</td>\n",
              "      <td>None</td>\n",
              "      <td>None</td>\n",
              "      <td>None</td>\n",
              "      <td>None</td>\n",
              "      <td>None</td>\n",
              "      <td>None</td>\n",
              "      <td>None</td>\n",
              "      <td>None</td>\n",
              "      <td>None</td>\n",
              "      <td>None</td>\n",
              "      <td>None</td>\n",
              "      <td>None</td>\n",
              "      <td>None</td>\n",
              "      <td>None</td>\n",
              "      <td>None</td>\n",
              "      <td>None</td>\n",
              "      <td>None</td>\n",
              "      <td>None</td>\n",
              "      <td>None</td>\n",
              "      <td>None</td>\n",
              "      <td>None</td>\n",
              "      <td>None</td>\n",
              "      <td>None</td>\n",
              "      <td>None</td>\n",
              "      <td>None</td>\n",
              "    </tr>\n",
              "    <tr>\n",
              "      <th>4727</th>\n",
              "      <td>formail</td>\n",
              "      <td>trick</td>\n",
              "      <td>thanks</td>\n",
              "      <td>answered</td>\n",
              "      <td>sake</td>\n",
              "      <td>archives</td>\n",
              "      <td>patch</td>\n",
              "      <td>ricochet</td>\n",
              "      <td>procmailrc</td>\n",
              "      <td>f</td>\n",
              "      <td>test</td>\n",
              "      <td>formmail</td>\n",
              "      <td>exec</td>\n",
              "      <td>formail</td>\n",
              "      <td>procmail</td>\n",
              "      <td>message</td>\n",
              "      <td>mailto</td>\n",
              "      <td>behalf</td>\n",
              "      <td>sven</td>\n",
              "      <td>willenberger</td>\n",
              "      <td>sent</td>\n",
              "      <td>tuesday</td>\n",
              "      <td>august</td>\n",
              "      <td>pm</td>\n",
              "      <td>zeek</td>\n",
              "      <td>cc</td>\n",
              "      <td>subject</td>\n",
              "      <td>ricochet</td>\n",
              "      <td>question</td>\n",
              "      <td>actually</td>\n",
              "      <td>original</td>\n",
              "      <td>message</td>\n",
              "      <td>zeek</td>\n",
              "      <td>date</td>\n",
              "      <td>tue</td>\n",
              "      <td>aug</td>\n",
              "      <td>subject</td>\n",
              "      <td>ricochet</td>\n",
              "      <td>question</td>\n",
              "      <td>actually</td>\n",
              "      <td>...</td>\n",
              "      <td>None</td>\n",
              "      <td>None</td>\n",
              "      <td>None</td>\n",
              "      <td>None</td>\n",
              "      <td>None</td>\n",
              "      <td>None</td>\n",
              "      <td>None</td>\n",
              "      <td>None</td>\n",
              "      <td>None</td>\n",
              "      <td>None</td>\n",
              "      <td>None</td>\n",
              "      <td>None</td>\n",
              "      <td>None</td>\n",
              "      <td>None</td>\n",
              "      <td>None</td>\n",
              "      <td>None</td>\n",
              "      <td>None</td>\n",
              "      <td>None</td>\n",
              "      <td>None</td>\n",
              "      <td>None</td>\n",
              "      <td>None</td>\n",
              "      <td>None</td>\n",
              "      <td>None</td>\n",
              "      <td>None</td>\n",
              "      <td>None</td>\n",
              "      <td>None</td>\n",
              "      <td>None</td>\n",
              "      <td>None</td>\n",
              "      <td>None</td>\n",
              "      <td>None</td>\n",
              "      <td>None</td>\n",
              "      <td>None</td>\n",
              "      <td>None</td>\n",
              "      <td>None</td>\n",
              "      <td>None</td>\n",
              "      <td>None</td>\n",
              "      <td>None</td>\n",
              "      <td>None</td>\n",
              "      <td>None</td>\n",
              "      <td>None</td>\n",
              "    </tr>\n",
              "    <tr>\n",
              "      <th>5022</th>\n",
              "      <td>wintermute</td>\n",
              "      <td>écrit</td>\n",
              "      <td>confused</td>\n",
              "      <td>thought</td>\n",
              "      <td>money</td>\n",
              "      <td>paid</td>\n",
              "      <td>suse</td>\n",
              "      <td>day</td>\n",
              "      <td>support</td>\n",
              "      <td>whatever</td>\n",
              "      <td>oh</td>\n",
              "      <td>year</td>\n",
              "      <td>year</td>\n",
              "      <td>half</td>\n",
              "      <td>ago</td>\n",
              "      <td>suse</td>\n",
              "      <td>revoked</td>\n",
              "      <td>free</td>\n",
              "      <td>offering</td>\n",
              "      <td>retail</td>\n",
              "      <td>distro</td>\n",
              "      <td>sometime</td>\n",
              "      <td>start</td>\n",
              "      <td>great</td>\n",
              "      <td>slump</td>\n",
              "      <td>suse</td>\n",
              "      <td>pulled</td>\n",
              "      <td>free</td>\n",
              "      <td>release</td>\n",
              "      <td>main</td>\n",
              "      <td>product</td>\n",
              "      <td>fine</td>\n",
              "      <td>nobody</td>\n",
              "      <td>oblige</td>\n",
              "      <td>suse</td>\n",
              "      <td>anything</td>\n",
              "      <td>put</td>\n",
              "      <td>ftp</td>\n",
              "      <td>version</td>\n",
              "      <td>surely</td>\n",
              "      <td>...</td>\n",
              "      <td>None</td>\n",
              "      <td>None</td>\n",
              "      <td>None</td>\n",
              "      <td>None</td>\n",
              "      <td>None</td>\n",
              "      <td>None</td>\n",
              "      <td>None</td>\n",
              "      <td>None</td>\n",
              "      <td>None</td>\n",
              "      <td>None</td>\n",
              "      <td>None</td>\n",
              "      <td>None</td>\n",
              "      <td>None</td>\n",
              "      <td>None</td>\n",
              "      <td>None</td>\n",
              "      <td>None</td>\n",
              "      <td>None</td>\n",
              "      <td>None</td>\n",
              "      <td>None</td>\n",
              "      <td>None</td>\n",
              "      <td>None</td>\n",
              "      <td>None</td>\n",
              "      <td>None</td>\n",
              "      <td>None</td>\n",
              "      <td>None</td>\n",
              "      <td>None</td>\n",
              "      <td>None</td>\n",
              "      <td>None</td>\n",
              "      <td>None</td>\n",
              "      <td>None</td>\n",
              "      <td>None</td>\n",
              "      <td>None</td>\n",
              "      <td>None</td>\n",
              "      <td>None</td>\n",
              "      <td>None</td>\n",
              "      <td>None</td>\n",
              "      <td>None</td>\n",
              "      <td>None</td>\n",
              "      <td>None</td>\n",
              "      <td>None</td>\n",
              "    </tr>\n",
              "    <tr>\n",
              "      <th>3504</th>\n",
              "      <td>aug</td>\n",
              "      <td>rohit</td>\n",
              "      <td>khare</td>\n",
              "      <td>wrote</td>\n",
              "      <td>datapower</td>\n",
              "      <td>technology</td>\n",
              "      <td>monday</td>\n",
              "      <td>unveiled</td>\n",
              "      <td>network</td>\n",
              "      <td>device</td>\n",
              "      <td>designed</td>\n",
              "      <td>specifically</td>\n",
              "      <td>process</td>\n",
              "      <td>xml</td>\n",
              "      <td>data</td>\n",
              "      <td>unlike</td>\n",
              "      <td>competing</td>\n",
              "      <td>solutions</td>\n",
              "      <td>process</td>\n",
              "      <td>xml</td>\n",
              "      <td>data</td>\n",
              "      <td>software</td>\n",
              "      <td>device</td>\n",
              "      <td>processes</td>\n",
              "      <td>data</td>\n",
              "      <td>hardware</td>\n",
              "      <td>technology</td>\n",
              "      <td>achievement</td>\n",
              "      <td>provides</td>\n",
              "      <td>greater</td>\n",
              "      <td>performance</td>\n",
              "      <td>according</td>\n",
              "      <td>company</td>\n",
              "      <td>officials</td>\n",
              "      <td>sarvega</td>\n",
              "      <td>seems</td>\n",
              "      <td>similar</td>\n",
              "      <td>product</td>\n",
              "      <td>http</td>\n",
              "      <td>None</td>\n",
              "      <td>...</td>\n",
              "      <td>None</td>\n",
              "      <td>None</td>\n",
              "      <td>None</td>\n",
              "      <td>None</td>\n",
              "      <td>None</td>\n",
              "      <td>None</td>\n",
              "      <td>None</td>\n",
              "      <td>None</td>\n",
              "      <td>None</td>\n",
              "      <td>None</td>\n",
              "      <td>None</td>\n",
              "      <td>None</td>\n",
              "      <td>None</td>\n",
              "      <td>None</td>\n",
              "      <td>None</td>\n",
              "      <td>None</td>\n",
              "      <td>None</td>\n",
              "      <td>None</td>\n",
              "      <td>None</td>\n",
              "      <td>None</td>\n",
              "      <td>None</td>\n",
              "      <td>None</td>\n",
              "      <td>None</td>\n",
              "      <td>None</td>\n",
              "      <td>None</td>\n",
              "      <td>None</td>\n",
              "      <td>None</td>\n",
              "      <td>None</td>\n",
              "      <td>None</td>\n",
              "      <td>None</td>\n",
              "      <td>None</td>\n",
              "      <td>None</td>\n",
              "      <td>None</td>\n",
              "      <td>None</td>\n",
              "      <td>None</td>\n",
              "      <td>None</td>\n",
              "      <td>None</td>\n",
              "      <td>None</td>\n",
              "      <td>None</td>\n",
              "      <td>None</td>\n",
              "    </tr>\n",
              "    <tr>\n",
              "      <th>3921</th>\n",
              "      <td>apols</td>\n",
              "      <td>posted</td>\n",
              "      <td>http</td>\n",
              "      <td>rob</td>\n",
              "      <td>yahoo</td>\n",
              "      <td>groups</td>\n",
              "      <td>sponsor</td>\n",
              "      <td>dvds</td>\n",
              "      <td>free</td>\n",
              "      <td>p</td>\n",
              "      <td>join</td>\n",
              "      <td>http</td>\n",
              "      <td>unsubscribe</td>\n",
              "      <td>group</td>\n",
              "      <td>send</td>\n",
              "      <td>email</td>\n",
              "      <td>use</td>\n",
              "      <td>yahoo</td>\n",
              "      <td>groups</td>\n",
              "      <td>subject</td>\n",
              "      <td>http</td>\n",
              "      <td>None</td>\n",
              "      <td>None</td>\n",
              "      <td>None</td>\n",
              "      <td>None</td>\n",
              "      <td>None</td>\n",
              "      <td>None</td>\n",
              "      <td>None</td>\n",
              "      <td>None</td>\n",
              "      <td>None</td>\n",
              "      <td>None</td>\n",
              "      <td>None</td>\n",
              "      <td>None</td>\n",
              "      <td>None</td>\n",
              "      <td>None</td>\n",
              "      <td>None</td>\n",
              "      <td>None</td>\n",
              "      <td>None</td>\n",
              "      <td>None</td>\n",
              "      <td>None</td>\n",
              "      <td>...</td>\n",
              "      <td>None</td>\n",
              "      <td>None</td>\n",
              "      <td>None</td>\n",
              "      <td>None</td>\n",
              "      <td>None</td>\n",
              "      <td>None</td>\n",
              "      <td>None</td>\n",
              "      <td>None</td>\n",
              "      <td>None</td>\n",
              "      <td>None</td>\n",
              "      <td>None</td>\n",
              "      <td>None</td>\n",
              "      <td>None</td>\n",
              "      <td>None</td>\n",
              "      <td>None</td>\n",
              "      <td>None</td>\n",
              "      <td>None</td>\n",
              "      <td>None</td>\n",
              "      <td>None</td>\n",
              "      <td>None</td>\n",
              "      <td>None</td>\n",
              "      <td>None</td>\n",
              "      <td>None</td>\n",
              "      <td>None</td>\n",
              "      <td>None</td>\n",
              "      <td>None</td>\n",
              "      <td>None</td>\n",
              "      <td>None</td>\n",
              "      <td>None</td>\n",
              "      <td>None</td>\n",
              "      <td>None</td>\n",
              "      <td>None</td>\n",
              "      <td>None</td>\n",
              "      <td>None</td>\n",
              "      <td>None</td>\n",
              "      <td>None</td>\n",
              "      <td>None</td>\n",
              "      <td>None</td>\n",
              "      <td>None</td>\n",
              "      <td>None</td>\n",
              "    </tr>\n",
              "  </tbody>\n",
              "</table>\n",
              "<p>5 rows × 7661 columns</p>\n",
              "</div>"
            ],
            "text/plain": [
              "              0       1         2         3     ...  7657  7658  7659  7660\n",
              "DOC_ID                                          ...                        \n",
              "4844           thu     aug     jehan   thought  ...  None  None  None  None\n",
              "4727       formail   trick    thanks  answered  ...  None  None  None  None\n",
              "5022    wintermute   écrit  confused   thought  ...  None  None  None  None\n",
              "3504           aug   rohit     khare     wrote  ...  None  None  None  None\n",
              "3921         apols  posted      http       rob  ...  None  None  None  None\n",
              "\n",
              "[5 rows x 7661 columns]"
            ]
          },
          "metadata": {},
          "execution_count": 94
        }
      ]
    },
    {
      "cell_type": "code",
      "metadata": {
        "colab": {
          "base_uri": "https://localhost:8080/"
        },
        "id": "DX5fVwMpvsH2",
        "outputId": "b2176012-4722-4f7d-9d55-68a3e9569038"
      },
      "source": [
        "y_train.head()\n"
      ],
      "execution_count": 96,
      "outputs": [
        {
          "output_type": "execute_result",
          "data": {
            "text/plain": [
              "DOC_ID\n",
              "4844    0\n",
              "4727    0\n",
              "5022    0\n",
              "3504    0\n",
              "3921    0\n",
              "Name: Category, dtype: int64"
            ]
          },
          "metadata": {},
          "execution_count": 96
        }
      ]
    },
    {
      "cell_type": "markdown",
      "metadata": {
        "id": "KnIKgulqxLZI"
      },
      "source": [
        "CREATING A SPARSE MATRIX"
      ]
    },
    {
      "cell_type": "code",
      "metadata": {
        "colab": {
          "base_uri": "https://localhost:8080/"
        },
        "id": "OkfjWTinyJRD",
        "outputId": "bbecd81c-482a-4e1b-c5fd-3be75074fec6"
      },
      "source": [
        "print(vocab.VOCAB_WORD)"
      ],
      "execution_count": 97,
      "outputs": [
        {
          "output_type": "stream",
          "name": "stdout",
          "text": [
            "WORD_ID\n",
            "0            http\n",
            "1            list\n",
            "2           email\n",
            "3             one\n",
            "4             get\n",
            "          ...    \n",
            "2495        serve\n",
            "2496       spread\n",
            "2497     creative\n",
            "2498         logs\n",
            "2499    developer\n",
            "Name: VOCAB_WORD, Length: 2500, dtype: object\n"
          ]
        }
      ]
    },
    {
      "cell_type": "code",
      "metadata": {
        "colab": {
          "base_uri": "https://localhost:8080/",
          "height": 450
        },
        "id": "4D_SLAt0ycNl",
        "outputId": "f6e8295d-d1eb-48aa-d6f8-eca35bd34b0f"
      },
      "source": [
        "vocab"
      ],
      "execution_count": 98,
      "outputs": [
        {
          "output_type": "execute_result",
          "data": {
            "text/html": [
              "<div>\n",
              "<style scoped>\n",
              "    .dataframe tbody tr th:only-of-type {\n",
              "        vertical-align: middle;\n",
              "    }\n",
              "\n",
              "    .dataframe tbody tr th {\n",
              "        vertical-align: top;\n",
              "    }\n",
              "\n",
              "    .dataframe thead th {\n",
              "        text-align: right;\n",
              "    }\n",
              "</style>\n",
              "<table border=\"1\" class=\"dataframe\">\n",
              "  <thead>\n",
              "    <tr style=\"text-align: right;\">\n",
              "      <th></th>\n",
              "      <th>VOCAB_WORD</th>\n",
              "    </tr>\n",
              "    <tr>\n",
              "      <th>WORD_ID</th>\n",
              "      <th></th>\n",
              "    </tr>\n",
              "  </thead>\n",
              "  <tbody>\n",
              "    <tr>\n",
              "      <th>0</th>\n",
              "      <td>http</td>\n",
              "    </tr>\n",
              "    <tr>\n",
              "      <th>1</th>\n",
              "      <td>list</td>\n",
              "    </tr>\n",
              "    <tr>\n",
              "      <th>2</th>\n",
              "      <td>email</td>\n",
              "    </tr>\n",
              "    <tr>\n",
              "      <th>3</th>\n",
              "      <td>one</td>\n",
              "    </tr>\n",
              "    <tr>\n",
              "      <th>4</th>\n",
              "      <td>get</td>\n",
              "    </tr>\n",
              "    <tr>\n",
              "      <th>...</th>\n",
              "      <td>...</td>\n",
              "    </tr>\n",
              "    <tr>\n",
              "      <th>2495</th>\n",
              "      <td>serve</td>\n",
              "    </tr>\n",
              "    <tr>\n",
              "      <th>2496</th>\n",
              "      <td>spread</td>\n",
              "    </tr>\n",
              "    <tr>\n",
              "      <th>2497</th>\n",
              "      <td>creative</td>\n",
              "    </tr>\n",
              "    <tr>\n",
              "      <th>2498</th>\n",
              "      <td>logs</td>\n",
              "    </tr>\n",
              "    <tr>\n",
              "      <th>2499</th>\n",
              "      <td>developer</td>\n",
              "    </tr>\n",
              "  </tbody>\n",
              "</table>\n",
              "<p>2500 rows × 1 columns</p>\n",
              "</div>"
            ],
            "text/plain": [
              "        VOCAB_WORD\n",
              "WORD_ID           \n",
              "0             http\n",
              "1             list\n",
              "2            email\n",
              "3              one\n",
              "4              get\n",
              "...            ...\n",
              "2495         serve\n",
              "2496        spread\n",
              "2497      creative\n",
              "2498          logs\n",
              "2499     developer\n",
              "\n",
              "[2500 rows x 1 columns]"
            ]
          },
          "metadata": {},
          "execution_count": 98
        }
      ]
    },
    {
      "cell_type": "code",
      "metadata": {
        "id": "MxZGiuRoyga9"
      },
      "source": [
        "# Getting index of all the vocabulary\n",
        "word_index = pd.Index(vocab.VOCAB_WORD)\n"
      ],
      "execution_count": 99,
      "outputs": []
    },
    {
      "cell_type": "code",
      "metadata": {
        "colab": {
          "base_uri": "https://localhost:8080/",
          "height": 35
        },
        "id": "1iE7eytcyqI8",
        "outputId": "ecef8029-e400-46f1-f931-23f9f1f99a99"
      },
      "source": [
        "word_index[2]"
      ],
      "execution_count": 101,
      "outputs": [
        {
          "output_type": "execute_result",
          "data": {
            "application/vnd.google.colaboratory.intrinsic+json": {
              "type": "string"
            },
            "text/plain": [
              "'email'"
            ]
          },
          "metadata": {},
          "execution_count": 101
        }
      ]
    },
    {
      "cell_type": "markdown",
      "metadata": {
        "id": "L2AJMPI2y0XK"
      },
      "source": [
        "CREATING A SPARSE MATRIX FUNCTION"
      ]
    },
    {
      "cell_type": "code",
      "metadata": {
        "id": "SnMyecYEyrm_"
      },
      "source": [
        "def make_sparse_matrix(df, indexed_words, labels):  #labels is the categoory\n",
        "    \"\"\"\n",
        "    Returns sparse matrix as dataframe.\n",
        "    \n",
        "    df: A dataframe with words in the columns with a document id as an index (X_train or X_test)\n",
        "    indexed_words: index of words ordered by word id\n",
        "    labels: category as a series (y_train or y_test)\n",
        "    \"\"\"\n",
        "    \n",
        "    nr_rows = df.shape[0]\n",
        "    nr_cols = df.shape[1]\n",
        "    word_set = set(indexed_words)\n",
        "    dict_list = []\n",
        "    \n",
        "    for i in range(nr_rows):\n",
        "        for j in range(nr_cols):\n",
        "            \n",
        "            word = df.iat[i, j]                           #Getting the word at the index (i,j)\n",
        "            if word in word_set:    \n",
        "                doc_id = df.index[i]                      #Storing the index of word\n",
        "                word_id = indexed_words.get_loc(word)     #getting index of the word in provided indexed_word(word_index that we've defined above)\n",
        "                category = labels.at[doc_id]\n",
        "                \n",
        "                item = {'LABEL': category, 'DOC_ID': doc_id,\n",
        "                       'OCCURENCE': 1, 'WORD_ID': word_id}\n",
        "                \n",
        "                dict_list.append(item)\n",
        "    \n",
        "    return pd.DataFrame(dict_list)"
      ],
      "execution_count": null,
      "outputs": []
    }
  ]
}