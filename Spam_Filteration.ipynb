{
  "nbformat": 4,
  "nbformat_minor": 0,
  "metadata": {
    "colab": {
      "name": "Spam Filteration.ipynb",
      "provenance": [],
      "authorship_tag": "ABX9TyMKuUSRlJqbfYitrL/cLmJZ",
      "include_colab_link": true
    },
    "kernelspec": {
      "name": "python3",
      "display_name": "Python 3"
    },
    "language_info": {
      "name": "python"
    }
  },
  "cells": [
    {
      "cell_type": "markdown",
      "metadata": {
        "id": "view-in-github",
        "colab_type": "text"
      },
      "source": [
        "<a href=\"https://colab.research.google.com/github/KumarGaurav20/Spam-Emails/blob/main/Spam_Filteration.ipynb\" target=\"_parent\"><img src=\"https://colab.research.google.com/assets/colab-badge.svg\" alt=\"Open In Colab\"/></a>"
      ]
    },
    {
      "cell_type": "markdown",
      "metadata": {
        "id": "CftQyq4nSADU"
      },
      "source": [
        "# **FILTERING AND VISUALIZING EMAILS** "
      ]
    },
    {
      "cell_type": "markdown",
      "metadata": {
        "id": "16ZglE04SSI2"
      },
      "source": [
        "IMPORTS"
      ]
    },
    {
      "cell_type": "code",
      "metadata": {
        "id": "t1711o16SVQv"
      },
      "source": [
        "from os import walk\n",
        "# from os import join\n",
        "import pandas as pd\n"
      ],
      "execution_count": null,
      "outputs": []
    },
    {
      "cell_type": "markdown",
      "metadata": {
        "id": "KXtqpB71UkrE"
      },
      "source": [
        "CONSTANTS\n"
      ]
    },
    {
      "cell_type": "code",
      "metadata": {
        "id": "7lFebP3lUoAv"
      },
      "source": [
        "FILE_PATH= '/content/grive/MyDrive/Colab Data/SpamData/01_Processing/practice_email.txt'"
      ],
      "execution_count": null,
      "outputs": []
    },
    {
      "cell_type": "markdown",
      "metadata": {
        "id": "7s3XybPCYZxn"
      },
      "source": [
        "Function for Email Body Generation\n"
      ]
    },
    {
      "cell_type": "code",
      "metadata": {
        "id": "lmYd3htjUcoJ"
      },
      "source": [
        "# Fuction to generate the email body\n",
        "def email_body_generator(path):\n",
        "  for root, dirnames, filenames in walk(path): #walk iterates and returns the three tuple pf files in a  given folder\n",
        "    for file_name in filenames:\n",
        "      filepath= join(root, file_name)\n",
        "\n",
        "      stream= open(filepath, encoding='latin_1')\n",
        "      #checking if it's email body or not\n",
        "      is_body= False \n",
        "      #for reading the lines into a list\n",
        "      lines=[] \n",
        "      for line in stream:\n",
        "        if is_body:\n",
        "          lines.append(line)\n",
        "      #check for new line(as header is separated with body by a new line )\n",
        "        elif line==\"\\n\":\n",
        "          is_body=True\n",
        "          \n",
        "      stream.close()\n",
        "      # converting the list into a string\n",
        "  email_body='\\n'.join(lines)\n",
        "  #yield is a special return type that remembers previous output\n",
        "  yield file_name, email_body \n",
        "      "
      ],
      "execution_count": 4,
      "outputs": []
    },
    {
      "cell_type": "markdown",
      "metadata": {
        "id": "iMZh4k8iJ_Ah"
      },
      "source": [
        "Function for generating dataframe of email_body\n"
      ]
    },
    {
      "cell_type": "code",
      "metadata": {
        "id": "4DdWpMzxILUc"
      },
      "source": [
        "# classification is the category(group no) that we'll provide\n",
        "def df_from_email_body(path, classification):\n",
        "  rows=[]\n",
        "  row_names=[]\n",
        "\n",
        "  for file_name, email_body in email_body_generator(path):\n",
        "    rows.append({'Message': email_body, 'Category': classification})\n",
        "    row_names.append(file_name)\n",
        "\n",
        "  return pd.DataFrame(rows, index=row_names)\n"
      ],
      "execution_count": 3,
      "outputs": []
    },
    {
      "cell_type": "markdown",
      "metadata": {
        "id": "FzigsDt1Mp7k"
      },
      "source": [
        "Generating Dataframe of Spam & Normal Emails"
      ]
    },
    {
      "cell_type": "code",
      "metadata": {
        "id": "rbhBmyltMj2l"
      },
      "source": [
        ""
      ],
      "execution_count": null,
      "outputs": []
    }
  ]
}