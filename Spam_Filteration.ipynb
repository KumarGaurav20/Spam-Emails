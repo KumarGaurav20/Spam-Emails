{
  "nbformat": 4,
  "nbformat_minor": 0,
  "metadata": {
    "colab": {
      "name": "Spam Filteration.ipynb",
      "provenance": [],
      "collapsed_sections": [],
      "authorship_tag": "ABX9TyOtaI5tF152rkR8rPrASxRR",
      "include_colab_link": true
    },
    "kernelspec": {
      "name": "python3",
      "display_name": "Python 3"
    },
    "language_info": {
      "name": "python"
    }
  },
  "cells": [
    {
      "cell_type": "markdown",
      "metadata": {
        "id": "view-in-github",
        "colab_type": "text"
      },
      "source": [
        "<a href=\"https://colab.research.google.com/github/KumarGaurav20/Spam-Emails/blob/main/Spam_Filteration.ipynb\" target=\"_parent\"><img src=\"https://colab.research.google.com/assets/colab-badge.svg\" alt=\"Open In Colab\"/></a>"
      ]
    },
    {
      "cell_type": "markdown",
      "metadata": {
        "id": "CftQyq4nSADU"
      },
      "source": [
        "# **FILTERING AND VISUALIZING EMAILS** "
      ]
    },
    {
      "cell_type": "code",
      "metadata": {
        "colab": {
          "base_uri": "https://localhost:8080/"
        },
        "id": "Fsy79p4WORRY",
        "outputId": "6bcdc434-7f7c-43cb-f380-011f5a5d168e"
      },
      "source": [
        "from google.colab import drive\n",
        "\n",
        "drive.mount('/content/gdrive')"
      ],
      "execution_count": 4,
      "outputs": [
        {
          "output_type": "stream",
          "name": "stdout",
          "text": [
            "Drive already mounted at /content/gdrive; to attempt to forcibly remount, call drive.mount(\"/content/gdrive\", force_remount=True).\n"
          ]
        }
      ]
    },
    {
      "cell_type": "code",
      "metadata": {
        "id": "t1711o16SVQv"
      },
      "source": [
        "from os import walk\n",
        "from os.path import join\n",
        "import pandas as pd\n"
      ],
      "execution_count": 5,
      "outputs": []
    },
    {
      "cell_type": "markdown",
      "metadata": {
        "id": "KXtqpB71UkrE"
      },
      "source": [
        "CONSTANTS\n"
      ]
    },
    {
      "cell_type": "code",
      "metadata": {
        "id": "7lFebP3lUoAv"
      },
      "source": [
        "FILE_PATH= '/content/gdrive/MyDrive/COLAB DATA/SpamData/01_Processing/practice_email.txt'\n",
        "DATA_JSON_FILE= '/content/gdrive/MyDrive/COLAB DATA/email-text-data.json'\n",
        "\n",
        "SPAM_1_PATH= '/content/gdrive/MyDrive/COLAB DATA/SpamData/01_Processing/spam_assassin_corpus/spam_1'\n",
        "SPAM_2_PATH= '/content/gdrive/MyDrive/COLAB DATA/SpamData/01_Processing/spam_assassin_corpus/spam_2'\n",
        "HAM_1_PATH= '/content/gdrive/MyDrive/COLAB DATA/SpamData/01_Processing/spam_assassin_corpus/easy_ham_1'\n",
        "HAM_11_PATH= 'D:\\Machine Learning\\6. Pre-Process Text Data for a Naive Bayes Classifier to Filter Spam Emails Part 1\\SpamData\\01_Processing\\spam_assassin_corpus\\easy_ham_1'\n",
        "HAM_2_PATH= '/content/gdrive/MyDrive/COLAB DATA/SpamData/01_Processing/spam_assassin_corpus/easy_ham_2'\n",
        "\n",
        "SPAM_CAT= 1\n",
        "HAM_CAT= 0\n",
        "\n"
      ],
      "execution_count": 60,
      "outputs": []
    },
    {
      "cell_type": "markdown",
      "metadata": {
        "id": "7s3XybPCYZxn"
      },
      "source": [
        "Function for Email Body Generation\n"
      ]
    },
    {
      "cell_type": "code",
      "metadata": {
        "id": "lmYd3htjUcoJ"
      },
      "source": [
        "# Fuction to generate the email body\n",
        "def email_body_generator(path):\n",
        "  for root, dirnames, filenames in walk(path): #walk iterates and returns the three tuple pf files in a  given folder\n",
        "    for file_name in filenames:\n",
        "      \n",
        "      filepath= join(root, file_name)\n",
        "      stream= open(filepath, encoding='latin_1')\n",
        "      #checking if it's email body or not\n",
        "      is_body= False \n",
        "      #for reading the lines into a list\n",
        "      lines=[] \n",
        "      for line in stream:\n",
        "        if is_body:\n",
        "          lines.append(line)\n",
        "      #check for new line(as header is separated with body by a new line )\n",
        "        elif line==\"\\n\":\n",
        "          is_body=True\n",
        "          \n",
        "      stream.close()\n",
        "      # converting the list into a string\n",
        "      email_body='\\n'.join(lines)\n",
        "      #yield is a special return type that remembers previous output\n",
        "      yield file_name, email_body \n",
        "      "
      ],
      "execution_count": 14,
      "outputs": []
    },
    {
      "cell_type": "markdown",
      "metadata": {
        "id": "iMZh4k8iJ_Ah"
      },
      "source": [
        "Function for generating dataframe of email_body\n"
      ]
    },
    {
      "cell_type": "code",
      "metadata": {
        "id": "4DdWpMzxILUc"
      },
      "source": [
        "# classification is the category(group no) that we'll provide\n",
        "def df_from_email_body(path, classification):\n",
        "  rows=[]\n",
        "  row_names=[]\n",
        "\n",
        "  for file_name, email_body in email_body_generator(path):\n",
        "    rows.append({'Message': email_body, 'Category': classification})\n",
        "    row_names.append(file_name)\n",
        "\n",
        "  return pd.DataFrame(rows, index=row_names)\n"
      ],
      "execution_count": 15,
      "outputs": []
    },
    {
      "cell_type": "markdown",
      "metadata": {
        "id": "FzigsDt1Mp7k"
      },
      "source": [
        "Generating Dataframe of Spam & Normal Emails"
      ]
    },
    {
      "cell_type": "code",
      "metadata": {
        "id": "xTzoO57PejGz"
      },
      "source": [
        "spam_emails = df_from_email_body(SPAM_1_PATH, SPAM_CAT)\n",
        "spam_emails = spam_emails.append(df_from_email_body(SPAM_2_PATH, SPAM_CAT))\n",
        "\n",
        "ham_emails = df_from_email_body(HAM_1_PATH, HAM_CAT)\n",
        "ham_emails = ham_emails.append(df_from_email_body(HAM_2_PATH, HAM_CAT))\n"
      ],
      "execution_count": 47,
      "outputs": []
    },
    {
      "cell_type": "code",
      "metadata": {
        "id": "Zec_YSfTe5on"
      },
      "source": [
        "data_combined= pd.concat([spam_emails, ham_emails])"
      ],
      "execution_count": 48,
      "outputs": []
    },
    {
      "cell_type": "code",
      "metadata": {
        "colab": {
          "base_uri": "https://localhost:8080/",
          "height": 204
        },
        "id": "AY0c4WZRlSug",
        "outputId": "542c8ea1-4fb8-4266-eda4-83d8db789c8e"
      },
      "source": [
        "data_combined.head()"
      ],
      "execution_count": 49,
      "outputs": [
        {
          "output_type": "execute_result",
          "data": {
            "text/html": [
              "<div>\n",
              "<style scoped>\n",
              "    .dataframe tbody tr th:only-of-type {\n",
              "        vertical-align: middle;\n",
              "    }\n",
              "\n",
              "    .dataframe tbody tr th {\n",
              "        vertical-align: top;\n",
              "    }\n",
              "\n",
              "    .dataframe thead th {\n",
              "        text-align: right;\n",
              "    }\n",
              "</style>\n",
              "<table border=\"1\" class=\"dataframe\">\n",
              "  <thead>\n",
              "    <tr style=\"text-align: right;\">\n",
              "      <th></th>\n",
              "      <th>Message</th>\n",
              "      <th>Category</th>\n",
              "    </tr>\n",
              "  </thead>\n",
              "  <tbody>\n",
              "    <tr>\n",
              "      <th>00003.2ee33bc6eacdb11f38d052c44819ba6c</th>\n",
              "      <td>1) Fight The Risk of Cancer!\\n\\nhttp://www.adc...</td>\n",
              "      <td>1</td>\n",
              "    </tr>\n",
              "    <tr>\n",
              "      <th>00292.dbf78a2aaa230d288eb80ab843804252</th>\n",
              "      <td>REGISTER .COM, .BIZ, AND .INFO DOMAINS FOR ONL...</td>\n",
              "      <td>1</td>\n",
              "    </tr>\n",
              "    <tr>\n",
              "      <th>00367.9688cdee9dfe720c297672c8f60d998f</th>\n",
              "      <td>++++++++++++++++++++++++++++++++++++++++++++++...</td>\n",
              "      <td>1</td>\n",
              "    </tr>\n",
              "    <tr>\n",
              "      <th>00282.0e230e05877f40a522bfb93aa3e314f3</th>\n",
              "      <td>&lt;html&gt;\\n\\n&lt;head&gt;\\n\\n&lt;/head&gt;\\n\\n&lt;center&gt;\\n\\n&lt;h1...</td>\n",
              "      <td>1</td>\n",
              "    </tr>\n",
              "    <tr>\n",
              "      <th>00448.a6ac96e93ef03ec1a638c577c6940f5e</th>\n",
              "      <td>&lt;html&gt;\\n\\n\\n\\n&lt;head&gt;\\n\\n&lt;title&gt;Classic Wines&lt;/...</td>\n",
              "      <td>1</td>\n",
              "    </tr>\n",
              "  </tbody>\n",
              "</table>\n",
              "</div>"
            ],
            "text/plain": [
              "                                                                                  Message  Category\n",
              "00003.2ee33bc6eacdb11f38d052c44819ba6c  1) Fight The Risk of Cancer!\\n\\nhttp://www.adc...         1\n",
              "00292.dbf78a2aaa230d288eb80ab843804252  REGISTER .COM, .BIZ, AND .INFO DOMAINS FOR ONL...         1\n",
              "00367.9688cdee9dfe720c297672c8f60d998f  ++++++++++++++++++++++++++++++++++++++++++++++...         1\n",
              "00282.0e230e05877f40a522bfb93aa3e314f3  <html>\\n\\n<head>\\n\\n</head>\\n\\n<center>\\n\\n<h1...         1\n",
              "00448.a6ac96e93ef03ec1a638c577c6940f5e  <html>\\n\\n\\n\\n<head>\\n\\n<title>Classic Wines</...         1"
            ]
          },
          "metadata": {},
          "execution_count": 49
        }
      ]
    },
    {
      "cell_type": "code",
      "metadata": {
        "colab": {
          "base_uri": "https://localhost:8080/",
          "height": 204
        },
        "id": "wD6oi_8rlZWK",
        "outputId": "fbbc40a1-c74d-495e-d790-c58906a5e1c0"
      },
      "source": [
        "data_combined.tail()"
      ],
      "execution_count": 50,
      "outputs": [
        {
          "output_type": "execute_result",
          "data": {
            "text/html": [
              "<div>\n",
              "<style scoped>\n",
              "    .dataframe tbody tr th:only-of-type {\n",
              "        vertical-align: middle;\n",
              "    }\n",
              "\n",
              "    .dataframe tbody tr th {\n",
              "        vertical-align: top;\n",
              "    }\n",
              "\n",
              "    .dataframe thead th {\n",
              "        text-align: right;\n",
              "    }\n",
              "</style>\n",
              "<table border=\"1\" class=\"dataframe\">\n",
              "  <thead>\n",
              "    <tr style=\"text-align: right;\">\n",
              "      <th></th>\n",
              "      <th>Message</th>\n",
              "      <th>Category</th>\n",
              "    </tr>\n",
              "  </thead>\n",
              "  <tbody>\n",
              "    <tr>\n",
              "      <th>01037.bfe999fe03b3c6b5b7cc2360c793e5a0</th>\n",
              "      <td>On Thu, 2002-08-15 at 17:53, Jesse wrote:\\n\\n&gt;...</td>\n",
              "      <td>0</td>\n",
              "    </tr>\n",
              "    <tr>\n",
              "      <th>01057.b2810601523d3bb9051088959078e309</th>\n",
              "      <td>Hello Gary,\\n\\n\\n\\n\\n\\nUh, plague is not actio...</td>\n",
              "      <td>0</td>\n",
              "    </tr>\n",
              "    <tr>\n",
              "      <th>01261.8335ae817bc240842df41dd7c3de2420</th>\n",
              "      <td>\\n\\n\\n\\n&gt; -----Original Message-----\\n\\n&gt; From...</td>\n",
              "      <td>0</td>\n",
              "    </tr>\n",
              "    <tr>\n",
              "      <th>01308.27ef6351cd2bcfef79df9ec5b563afae</th>\n",
              "      <td>On Tue, Jul 23, 2002 at 03:43:24PM -0400, rODb...</td>\n",
              "      <td>0</td>\n",
              "    </tr>\n",
              "    <tr>\n",
              "      <th>00910.4b1bddb9bfc1cea936f0f8cae0cd097d</th>\n",
              "      <td>On Friday, July 26, 2002, at 12:19 PM, James R...</td>\n",
              "      <td>0</td>\n",
              "    </tr>\n",
              "  </tbody>\n",
              "</table>\n",
              "</div>"
            ],
            "text/plain": [
              "                                                                                  Message  Category\n",
              "01037.bfe999fe03b3c6b5b7cc2360c793e5a0  On Thu, 2002-08-15 at 17:53, Jesse wrote:\\n\\n>...         0\n",
              "01057.b2810601523d3bb9051088959078e309  Hello Gary,\\n\\n\\n\\n\\n\\nUh, plague is not actio...         0\n",
              "01261.8335ae817bc240842df41dd7c3de2420  \\n\\n\\n\\n> -----Original Message-----\\n\\n> From...         0\n",
              "01308.27ef6351cd2bcfef79df9ec5b563afae  On Tue, Jul 23, 2002 at 03:43:24PM -0400, rODb...         0\n",
              "00910.4b1bddb9bfc1cea936f0f8cae0cd097d  On Friday, July 26, 2002, at 12:19 PM, James R...         0"
            ]
          },
          "metadata": {},
          "execution_count": 50
        }
      ]
    },
    {
      "cell_type": "markdown",
      "metadata": {
        "id": "Odryt9tBl2uZ"
      },
      "source": [
        "Checking for null columns"
      ]
    },
    {
      "cell_type": "code",
      "metadata": {
        "colab": {
          "base_uri": "https://localhost:8080/"
        },
        "id": "TkIAr7k2l8sj",
        "outputId": "f743ee80-5d7a-478b-9c7a-e7abb7b34a84"
      },
      "source": [
        "data_combined.isnull().sum()"
      ],
      "execution_count": 51,
      "outputs": [
        {
          "output_type": "execute_result",
          "data": {
            "text/plain": [
              "Message     0\n",
              "Category    0\n",
              "dtype: int64"
            ]
          },
          "metadata": {},
          "execution_count": 51
        }
      ]
    },
    {
      "cell_type": "markdown",
      "metadata": {
        "id": "oRWCoUPXl2ru"
      },
      "source": [
        "Checking for empty data"
      ]
    },
    {
      "cell_type": "code",
      "metadata": {
        "colab": {
          "base_uri": "https://localhost:8080/"
        },
        "id": "v1qWK_40mIgk",
        "outputId": "d7c1b023-5dfa-4a8d-dd81-a26f41364784"
      },
      "source": [
        "(data_combined.Message.str.len() == 0).sum()\n"
      ],
      "execution_count": 52,
      "outputs": [
        {
          "output_type": "execute_result",
          "data": {
            "text/plain": [
              "3"
            ]
          },
          "metadata": {},
          "execution_count": 52
        }
      ]
    },
    {
      "cell_type": "markdown",
      "metadata": {
        "id": "gnfb0klOnN5x"
      },
      "source": [
        "Locating And Removing Empty Strings"
      ]
    },
    {
      "cell_type": "code",
      "metadata": {
        "colab": {
          "base_uri": "https://localhost:8080/"
        },
        "id": "GKJT2zkunT70",
        "outputId": "b4737736-4ea2-4a6a-bba4-dc08f1be664d"
      },
      "source": [
        "# Getting index\n",
        "data_combined[data_combined.Message.str.len() == 0].index\n",
        "\n"
      ],
      "execution_count": 53,
      "outputs": [
        {
          "output_type": "execute_result",
          "data": {
            "text/plain": [
              "Index(['cmds', 'cmds', 'cmds'], dtype='object')"
            ]
          },
          "metadata": {},
          "execution_count": 53
        }
      ]
    },
    {
      "cell_type": "code",
      "metadata": {
        "id": "ly4OxgAhndek"
      },
      "source": [
        "# Removing the empty strings\n",
        "data_combined.drop(['cmds'], inplace=True)"
      ],
      "execution_count": 54,
      "outputs": []
    },
    {
      "cell_type": "code",
      "metadata": {
        "id": "8AZVOxXToA6L"
      },
      "source": [
        "document_ids= range(0, len(data_combined.index))\n",
        "data_combined['DOC_ID']= document_ids\n",
        "data_combined['FILENAMES']= data_combined.index\n",
        "data_combined.set_index('DOC_ID', inplace=True)"
      ],
      "execution_count": 57,
      "outputs": []
    },
    {
      "cell_type": "markdown",
      "metadata": {
        "id": "8bgeyAHdrzXT"
      },
      "source": [
        "Saving Data"
      ]
    },
    {
      "cell_type": "code",
      "metadata": {
        "id": "3u9w_RURrut9"
      },
      "source": [
        "data_combined.to_json(DATA_JSON_FILE)"
      ],
      "execution_count": 61,
      "outputs": []
    },
    {
      "cell_type": "code",
      "metadata": {
        "id": "NnLXuPVurZsU"
      },
      "source": [
        ""
      ],
      "execution_count": null,
      "outputs": []
    }
  ]
}