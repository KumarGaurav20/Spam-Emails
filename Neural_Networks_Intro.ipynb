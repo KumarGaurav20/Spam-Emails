{
  "nbformat": 4,
  "nbformat_minor": 0,
  "metadata": {
    "colab": {
      "name": "Neural Networks Intro.ipynb",
      "provenance": [],
      "authorship_tag": "ABX9TyN+1BeJzS05CERrZMmFwJiu",
      "include_colab_link": true
    },
    "kernelspec": {
      "name": "python3",
      "display_name": "Python 3"
    },
    "language_info": {
      "name": "python"
    }
  },
  "cells": [
    {
      "cell_type": "markdown",
      "metadata": {
        "id": "view-in-github",
        "colab_type": "text"
      },
      "source": [
        "<a href=\"https://colab.research.google.com/github/KumarGaurav20/Spam-Emails/blob/main/Neural_Networks_Intro.ipynb\" target=\"_parent\"><img src=\"https://colab.research.google.com/assets/colab-badge.svg\" alt=\"Open In Colab\"/></a>"
      ]
    },
    {
      "cell_type": "code",
      "metadata": {
        "colab": {
          "base_uri": "https://localhost:8080/"
        },
        "id": "zi32lJ9pCw5e",
        "outputId": "34a987dc-07b4-41aa-e0d1-192c91ee15cd"
      },
      "source": [
        "from google.colab import drive\n",
        "\n",
        "drive.mount('/content/gdrive')"
      ],
      "execution_count": 1,
      "outputs": [
        {
          "output_type": "stream",
          "name": "stdout",
          "text": [
            "Mounted at /content/gdrive\n"
          ]
        }
      ]
    },
    {
      "cell_type": "markdown",
      "metadata": {
        "id": "YTRlsY8ZNIMh"
      },
      "source": [
        "NOTEBOK IMPORTS"
      ]
    },
    {
      "cell_type": "code",
      "metadata": {
        "id": "dwzeRmIgCxzx"
      },
      "source": [
        "import numpy as np\n",
        "import tensorflow as tf     #Tensorflow is a library that uses dataflow and differentiable programming to perform various tasks focused on training and inference of deep neural networks\n",
        "import keras                #Keras is library that is used for neural network"
      ],
      "execution_count": 3,
      "outputs": []
    },
    {
      "cell_type": "markdown",
      "metadata": {
        "id": "HGsV45YgOKIA"
      },
      "source": [
        "CONSTANTS"
      ]
    },
    {
      "cell_type": "code",
      "metadata": {
        "id": "9ldp3-ATNLck"
      },
      "source": [
        "FILE_1 = '/content/gdrive/MyDrive/COLAB DATA/Neural Networks/01 Umbrella.jpg'\n",
        "FILE_2 = '/content/gdrive/MyDrive/COLAB DATA/Neural Networks/02 Couple.jpg'\n",
        "FILE_3 = '/content/gdrive/MyDrive/COLAB DATA/Neural Networks/03 Ocean.jpg'"
      ],
      "execution_count": 4,
      "outputs": []
    },
    {
      "cell_type": "markdown",
      "metadata": {
        "id": "EHMvs92KOWff"
      },
      "source": [
        "PRE-PROCESSING IMAGES\n"
      ]
    },
    {
      "cell_type": "code",
      "metadata": {
        "id": "hdAFaiOUOShJ"
      },
      "source": [
        ""
      ],
      "execution_count": null,
      "outputs": []
    }
  ]
}