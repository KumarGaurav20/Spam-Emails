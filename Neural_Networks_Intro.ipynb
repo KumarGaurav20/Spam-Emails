{
  "nbformat": 4,
  "nbformat_minor": 0,
  "metadata": {
    "colab": {
      "name": "Neural Networks Intro.ipynb",
      "provenance": [],
      "authorship_tag": "ABX9TyNs8a2XK+udClCbacqZ6xAv",
      "include_colab_link": true
    },
    "kernelspec": {
      "name": "python3",
      "display_name": "Python 3"
    },
    "language_info": {
      "name": "python"
    }
  },
  "cells": [
    {
      "cell_type": "markdown",
      "metadata": {
        "id": "view-in-github",
        "colab_type": "text"
      },
      "source": [
        "<a href=\"https://colab.research.google.com/github/KumarGaurav20/Spam-Emails/blob/main/Neural_Networks_Intro.ipynb\" target=\"_parent\"><img src=\"https://colab.research.google.com/assets/colab-badge.svg\" alt=\"Open In Colab\"/></a>"
      ]
    },
    {
      "cell_type": "code",
      "metadata": {
        "colab": {
          "base_uri": "https://localhost:8080/"
        },
        "id": "zi32lJ9pCw5e",
        "outputId": "34a987dc-07b4-41aa-e0d1-192c91ee15cd"
      },
      "source": [
        "from google.colab import drive\n",
        "\n",
        "drive.mount('/content/gdrive')"
      ],
      "execution_count": 1,
      "outputs": [
        {
          "output_type": "stream",
          "name": "stdout",
          "text": [
            "Mounted at /content/gdrive\n"
          ]
        }
      ]
    },
    {
      "cell_type": "markdown",
      "metadata": {
        "id": "YTRlsY8ZNIMh"
      },
      "source": [
        "NOTEBOK IMPORTS"
      ]
    },
    {
      "cell_type": "code",
      "metadata": {
        "id": "dwzeRmIgCxzx"
      },
      "source": [
        "import numpy as np\n",
        "#Tensorflow is a library that uses dataflow and differentiable programming to perform various tasks focused on training and inference of deep neural networks\n",
        "import tensorflow as tf     \n",
        "#Keras is library that is used for neural network\n",
        "import keras                \n",
        "\n",
        "#Image to array is used for preprocessing data\n",
        "from keras.preprocessing.image import img_to_array, load_img\n",
        "from keras.applications.inception_resnet_v2 import InceptionResNetV2, decode_predictions, preprocess_input\n",
        "\n",
        "from IPython.core.display import display\n",
        "\n"
      ],
      "execution_count": 6,
      "outputs": []
    },
    {
      "cell_type": "markdown",
      "metadata": {
        "id": "HGsV45YgOKIA"
      },
      "source": [
        "CONSTANTS"
      ]
    },
    {
      "cell_type": "code",
      "metadata": {
        "id": "9ldp3-ATNLck"
      },
      "source": [
        "FILE_1 = '/content/gdrive/MyDrive/COLAB DATA/Neural Networks/01 Umbrella.jpg'\n",
        "FILE_2 = '/content/gdrive/MyDrive/COLAB DATA/Neural Networks/02 Couple.jpg'\n",
        "FILE_3 = '/content/gdrive/MyDrive/COLAB DATA/Neural Networks/03 Ocean.jpg'"
      ],
      "execution_count": 4,
      "outputs": []
    },
    {
      "cell_type": "markdown",
      "metadata": {
        "id": "EHMvs92KOWff"
      },
      "source": [
        "PRE-PROCESSING IMAGES\n"
      ]
    },
    {
      "cell_type": "code",
      "metadata": {
        "colab": {
          "base_uri": "https://localhost:8080/",
          "height": 180
        },
        "id": "hdAFaiOUOShJ",
        "outputId": "0430fb1e-0202-4e3b-d173-1b47effece56"
      },
      "source": [
        "pic = load_img(FILE_1, target_size=(299, 299))\n",
        "display(pic)"
      ],
      "execution_count": 5,
      "outputs": [
        {
          "output_type": "error",
          "ename": "NameError",
          "evalue": "ignored",
          "traceback": [
            "\u001b[0;31m---------------------------------------------------------------------------\u001b[0m",
            "\u001b[0;31mNameError\u001b[0m                                 Traceback (most recent call last)",
            "\u001b[0;32m<ipython-input-5-629ad8fb16a7>\u001b[0m in \u001b[0;36m<module>\u001b[0;34m()\u001b[0m\n\u001b[0;32m----> 1\u001b[0;31m \u001b[0mpic\u001b[0m \u001b[0;34m=\u001b[0m \u001b[0mload_img\u001b[0m\u001b[0;34m(\u001b[0m\u001b[0mFILE_1\u001b[0m\u001b[0;34m,\u001b[0m \u001b[0mtarget_size\u001b[0m\u001b[0;34m=\u001b[0m\u001b[0;34m(\u001b[0m\u001b[0;36m299\u001b[0m\u001b[0;34m,\u001b[0m \u001b[0;36m299\u001b[0m\u001b[0;34m)\u001b[0m\u001b[0;34m)\u001b[0m\u001b[0;34m\u001b[0m\u001b[0;34m\u001b[0m\u001b[0m\n\u001b[0m\u001b[1;32m      2\u001b[0m \u001b[0mdisplay\u001b[0m\u001b[0;34m(\u001b[0m\u001b[0mpic\u001b[0m\u001b[0;34m)\u001b[0m\u001b[0;34m\u001b[0m\u001b[0;34m\u001b[0m\u001b[0m\n",
            "\u001b[0;31mNameError\u001b[0m: name 'load_img' is not defined"
          ]
        }
      ]
    },
    {
      "cell_type": "code",
      "metadata": {
        "id": "nta8hO8QOt9c"
      },
      "source": [
        ""
      ],
      "execution_count": null,
      "outputs": []
    }
  ]
}