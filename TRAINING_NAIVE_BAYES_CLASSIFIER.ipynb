{
  "nbformat": 4,
  "nbformat_minor": 0,
  "metadata": {
    "colab": {
      "name": "TRAINING NAIVE BAYES CLASSIFIER.ipynb",
      "provenance": [],
      "authorship_tag": "ABX9TyOSUtGvcwiQBu2IU2Daao9K",
      "include_colab_link": true
    },
    "kernelspec": {
      "name": "python3",
      "display_name": "Python 3"
    },
    "language_info": {
      "name": "python"
    }
  },
  "cells": [
    {
      "cell_type": "markdown",
      "metadata": {
        "id": "view-in-github",
        "colab_type": "text"
      },
      "source": [
        "<a href=\"https://colab.research.google.com/github/KumarGaurav20/Spam-Emails/blob/main/TRAINING_NAIVE_BAYES_CLASSIFIER.ipynb\" target=\"_parent\"><img src=\"https://colab.research.google.com/assets/colab-badge.svg\" alt=\"Open In Colab\"/></a>"
      ]
    },
    {
      "cell_type": "markdown",
      "metadata": {
        "id": "bQsltdeb7kkj"
      },
      "source": [
        "## TRAINING NAIVE BAYES CLASSIFIER"
      ]
    },
    {
      "cell_type": "markdown",
      "metadata": {
        "id": "3JhQ-gUZ7ml4"
      },
      "source": [
        "IMPORTS"
      ]
    },
    {
      "cell_type": "code",
      "metadata": {
        "colab": {
          "base_uri": "https://localhost:8080/"
        },
        "id": "zQXfBTrV84Bi",
        "outputId": "d96bca64-5aba-49ab-998a-149823dd1e19"
      },
      "source": [
        "from google.colab import drive\n",
        "\n",
        "drive.mount('/content/gdrive')"
      ],
      "execution_count": 1,
      "outputs": [
        {
          "output_type": "stream",
          "name": "stdout",
          "text": [
            "Mounted at /content/gdrive\n"
          ]
        }
      ]
    },
    {
      "cell_type": "code",
      "metadata": {
        "id": "WsAT03zZ9WYv"
      },
      "source": [
        "import pandas as pd\n",
        "import numpy as np"
      ],
      "execution_count": 2,
      "outputs": []
    },
    {
      "cell_type": "markdown",
      "metadata": {
        "id": "EMpNrMaG7viq"
      },
      "source": [
        "CONSTANTS"
      ]
    },
    {
      "cell_type": "code",
      "metadata": {
        "id": "PPV0H-La9aRh"
      },
      "source": [
        "TRAINING_DATA_FILE = '/content/gdrive/MyDrive/COLAB DATA/NAIVE BAYES CLASSIFIER DATA/train-data.txt'\n",
        "TEST_DATA_FILE = '/content/gdrive/MyDrive/COLAB DATA/NAIVE BAYES CLASSIFIER DATA/test-data.txt'\n",
        "\n",
        "VOCAB_SIZE = 2500"
      ],
      "execution_count": 5,
      "outputs": []
    },
    {
      "cell_type": "markdown",
      "metadata": {
        "id": "8xMtGCdg7yxv"
      },
      "source": [
        "ACESSING DATA\n"
      ]
    },
    {
      "cell_type": "code",
      "metadata": {
        "id": "d0hKTJjM-8Sb"
      },
      "source": [
        "sparse_train_data = np.loadtxt(TRAINING_DATA_FILE, delimiter=' ', dtype=int)\n",
        "sparse_test_data = np.loadtxt(TEST_DATA_FILE, delimiter=' ', dtype=int)\n"
      ],
      "execution_count": 6,
      "outputs": []
    },
    {
      "cell_type": "code",
      "metadata": {
        "colab": {
          "base_uri": "https://localhost:8080/"
        },
        "id": "p2iJGeVx_QzY",
        "outputId": "efe7a152-7998-46af-d785-95086291d027"
      },
      "source": [
        "sparse_train_data[0:10]"
      ],
      "execution_count": 14,
      "outputs": [
        {
          "output_type": "execute_result",
          "data": {
            "text/plain": [
              "array([[ 0,  0,  1,  2],\n",
              "       [ 0,  7,  1,  1],\n",
              "       [ 0, 15,  1,  1],\n",
              "       [ 0, 18,  1,  1],\n",
              "       [ 0, 24,  1,  1],\n",
              "       [ 0, 29,  1,  1],\n",
              "       [ 0, 52,  1,  1],\n",
              "       [ 0, 60,  1,  1],\n",
              "       [ 0, 64,  1,  1],\n",
              "       [ 0, 65,  1,  1]])"
            ]
          },
          "metadata": {},
          "execution_count": 14
        }
      ]
    },
    {
      "cell_type": "code",
      "metadata": {
        "colab": {
          "base_uri": "https://localhost:8080/"
        },
        "id": "Gpx3gDfB_Ful",
        "outputId": "5218dbf0-e4f3-41e7-cf2a-4955f8de21ed"
      },
      "source": [
        "sparse_test_data[0:10]"
      ],
      "execution_count": 13,
      "outputs": [
        {
          "output_type": "execute_result",
          "data": {
            "text/plain": [
              "array([[   8,    7,    1,    1],\n",
              "       [   8,    8,    1,    1],\n",
              "       [   8,   12,    1,    1],\n",
              "       [   8,   19,    1,    2],\n",
              "       [   8,   26,    1,    1],\n",
              "       [   8,   56,    1,    1],\n",
              "       [   8,  187,    1,    1],\n",
              "       [   8,  301,    1,    1],\n",
              "       [   8, 1122,    1,    1],\n",
              "       [   8, 1146,    1,    1]])"
            ]
          },
          "metadata": {},
          "execution_count": 13
        }
      ]
    },
    {
      "cell_type": "markdown",
      "metadata": {
        "id": "i1AZ0cLH71y7"
      },
      "source": [
        "FUNC FOR CONVERSION OF SPARSE MATRIX TO FULL MATRIX"
      ]
    },
    {
      "cell_type": "code",
      "metadata": {
        "id": "ZLQqsuGC_ctA"
      },
      "source": [
        "def make_full_matrix(sparse_matrix, nr_words, doc_idx=0, word_idx=1, cat_idx=2, freq_idx=3):\n",
        "    \"\"\"\n",
        "    Form a full matrix from a sparse matrix. Return a pandas dataframe. \n",
        "    Keyword arguments:\n",
        "    sparse_matrix -- numpy array\n",
        "    nr_words -- size of the vocabulary. Total number of tokens. \n",
        "    doc_idx -- position of the document id in the sparse matrix. Default: 1st column\n",
        "    word_idx -- position of the word id in the sparse matrix. Default: 2nd column\n",
        "    cat_idx -- position of the label (spam is 1, nonspam is 0). Default: 3rd column\n",
        "    freq_idx -- position of occurrence of word in sparse matrix. Default: 4th column\n",
        "    \"\"\"\n",
        "    column_names = ['DOC_ID'] + ['CATEGORY'] + list(range(0, VOCAB_SIZE))\n",
        "    doc_id_names = np.unique(sparse_matrix[:, 0])\n",
        "    full_matrix = pd.DataFrame(index=doc_id_names, columns=column_names)\n",
        "    full_matrix.fillna(value=0, inplace=True)\n",
        "    \n",
        "    for i in range(sparse_matrix.shape[0]):\n",
        "        doc_nr = sparse_matrix[i][doc_idx]\n",
        "        word_id = sparse_matrix[i][word_idx]\n",
        "        label = sparse_matrix[i][cat_idx]\n",
        "        occurrence = sparse_matrix[i][freq_idx]\n",
        "        \n",
        "        full_matrix.at[doc_nr, 'DOC_ID'] = doc_nr\n",
        "        full_matrix.at[doc_nr, 'CATEGORY'] = label\n",
        "        full_matrix.at[doc_nr, word_id] = occurrence\n",
        "    \n",
        "    full_matrix.set_index('DOC_ID', inplace=True)\n",
        "    return full_matrix"
      ],
      "execution_count": 15,
      "outputs": []
    },
    {
      "cell_type": "code",
      "metadata": {
        "id": "MpcWtWSF_dIK"
      },
      "source": [
        ""
      ],
      "execution_count": null,
      "outputs": []
    }
  ]
}