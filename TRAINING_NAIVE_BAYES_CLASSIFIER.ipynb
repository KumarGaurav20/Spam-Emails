{
  "nbformat": 4,
  "nbformat_minor": 0,
  "metadata": {
    "colab": {
      "name": "TRAINING NAIVE BAYES CLASSIFIER.ipynb",
      "provenance": [],
      "authorship_tag": "ABX9TyOFRyZyckJlmBgCe1PheExH",
      "include_colab_link": true
    },
    "kernelspec": {
      "name": "python3",
      "display_name": "Python 3"
    },
    "language_info": {
      "name": "python"
    }
  },
  "cells": [
    {
      "cell_type": "markdown",
      "metadata": {
        "id": "view-in-github",
        "colab_type": "text"
      },
      "source": [
        "<a href=\"https://colab.research.google.com/github/KumarGaurav20/Spam-Emails/blob/main/TRAINING_NAIVE_BAYES_CLASSIFIER.ipynb\" target=\"_parent\"><img src=\"https://colab.research.google.com/assets/colab-badge.svg\" alt=\"Open In Colab\"/></a>"
      ]
    },
    {
      "cell_type": "markdown",
      "metadata": {
        "id": "bQsltdeb7kkj"
      },
      "source": [
        "## TRAINING NAIVE BAYES CLASSIFIER"
      ]
    },
    {
      "cell_type": "markdown",
      "metadata": {
        "id": "3JhQ-gUZ7ml4"
      },
      "source": [
        "IMPORTS"
      ]
    },
    {
      "cell_type": "code",
      "metadata": {
        "colab": {
          "base_uri": "https://localhost:8080/"
        },
        "id": "zQXfBTrV84Bi",
        "outputId": "d96bca64-5aba-49ab-998a-149823dd1e19"
      },
      "source": [
        "from google.colab import drive\n",
        "\n",
        "drive.mount('/content/gdrive')"
      ],
      "execution_count": 1,
      "outputs": [
        {
          "output_type": "stream",
          "name": "stdout",
          "text": [
            "Mounted at /content/gdrive\n"
          ]
        }
      ]
    },
    {
      "cell_type": "code",
      "metadata": {
        "id": "WsAT03zZ9WYv"
      },
      "source": [
        "import pandas as pd\n",
        "import numpy as np"
      ],
      "execution_count": 2,
      "outputs": []
    },
    {
      "cell_type": "markdown",
      "metadata": {
        "id": "EMpNrMaG7viq"
      },
      "source": [
        "CONSTANTS"
      ]
    },
    {
      "cell_type": "code",
      "metadata": {
        "id": "PPV0H-La9aRh"
      },
      "source": [
        "TRAINING_DATA_FILE = 'SpamData/02_Training/train-data.txt'\n",
        "TEST_DATA_FILE = 'SpamData/02_Training/test-data.txt'\n",
        "\n",
        "TOKEN_SPAM_PROB_FILE = 'SpamData/03_Testing/prob-spam.txt'\n",
        "TOKEN_HAM_PROB_FILE = 'SpamData/03_Testing/prob-nonspam.txt'\n",
        "TOKEN_ALL_PROB_FILE = 'SpamData/03_Testing/prob-all-tokens.txt'\n",
        "\n",
        "TEST_FEATURE_MATRIX = 'SpamData/03_Testing/test-features.txt'\n",
        "TEST_TARGET_FILE = 'SpamData/03_Testing/test-target.txt'\n",
        "\n",
        "VOCAB_SIZE = 2500"
      ],
      "execution_count": 3,
      "outputs": []
    },
    {
      "cell_type": "markdown",
      "metadata": {
        "id": "8xMtGCdg7yxv"
      },
      "source": [
        "ACESSING DATA\n"
      ]
    },
    {
      "cell_type": "markdown",
      "metadata": {
        "id": "i1AZ0cLH71y7"
      },
      "source": [
        "FUNC FOR CONVERSION OF SPARSE MATRIX TO FULL MATRIX"
      ]
    }
  ]
}