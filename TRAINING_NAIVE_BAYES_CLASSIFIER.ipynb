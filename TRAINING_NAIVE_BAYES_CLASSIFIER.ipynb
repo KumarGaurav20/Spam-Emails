{
  "nbformat": 4,
  "nbformat_minor": 0,
  "metadata": {
    "colab": {
      "name": "TRAINING NAIVE BAYES CLASSIFIER.ipynb",
      "provenance": [],
      "authorship_tag": "ABX9TyPGmCaEnIjFUoxPF8GTziNj",
      "include_colab_link": true
    },
    "kernelspec": {
      "name": "python3",
      "display_name": "Python 3"
    },
    "language_info": {
      "name": "python"
    }
  },
  "cells": [
    {
      "cell_type": "markdown",
      "metadata": {
        "id": "view-in-github",
        "colab_type": "text"
      },
      "source": [
        "<a href=\"https://colab.research.google.com/github/KumarGaurav20/Spam-Emails/blob/main/TRAINING_NAIVE_BAYES_CLASSIFIER.ipynb\" target=\"_parent\"><img src=\"https://colab.research.google.com/assets/colab-badge.svg\" alt=\"Open In Colab\"/></a>"
      ]
    },
    {
      "cell_type": "markdown",
      "metadata": {
        "id": "bQsltdeb7kkj"
      },
      "source": [
        "## TRAINING NAIVE BAYES CLASSIFIER"
      ]
    },
    {
      "cell_type": "markdown",
      "metadata": {
        "id": "3JhQ-gUZ7ml4"
      },
      "source": [
        "IMPORTS"
      ]
    },
    {
      "cell_type": "markdown",
      "metadata": {
        "id": "EMpNrMaG7viq"
      },
      "source": [
        "CONSTANTS"
      ]
    },
    {
      "cell_type": "markdown",
      "metadata": {
        "id": "8xMtGCdg7yxv"
      },
      "source": [
        "ACESSING DATA\n"
      ]
    },
    {
      "cell_type": "markdown",
      "metadata": {
        "id": "i1AZ0cLH71y7"
      },
      "source": [
        "FUNC FOR CONVERSION OF SPARSE MATRIX TO FULL MATRIX"
      ]
    },
    {
      "cell_type": "code",
      "metadata": {
        "id": "RGhkeF5p71Wj"
      },
      "source": [
        ""
      ],
      "execution_count": null,
      "outputs": []
    }
  ]
}