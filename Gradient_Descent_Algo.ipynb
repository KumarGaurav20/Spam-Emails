{
  "nbformat": 4,
  "nbformat_minor": 0,
  "metadata": {
    "colab": {
      "name": "Gradient_Descent_Algo.ipynb",
      "provenance": [],
      "collapsed_sections": [],
      "authorship_tag": "ABX9TyMePo4e8OA6nwq/K/iVDSkf",
      "include_colab_link": true
    },
    "kernelspec": {
      "name": "python3",
      "display_name": "Python 3"
    },
    "language_info": {
      "name": "python"
    }
  },
  "cells": [
    {
      "cell_type": "markdown",
      "metadata": {
        "id": "view-in-github",
        "colab_type": "text"
      },
      "source": [
        "<a href=\"https://colab.research.google.com/github/KumarGaurav20/Spam-Emails/blob/main/Gradient_Descent_Algo.ipynb\" target=\"_parent\"><img src=\"https://colab.research.google.com/assets/colab-badge.svg\" alt=\"Open In Colab\"/></a>"
      ]
    },
    {
      "cell_type": "markdown",
      "metadata": {
        "id": "N8NOyJuLdWhr"
      },
      "source": [
        "# GRADIENT DESCENT ALGORITHMS"
      ]
    },
    {
      "cell_type": "markdown",
      "metadata": {
        "id": "cwL-YAfBdlrJ"
      },
      "source": [
        "  IMPORTS"
      ]
    },
    {
      "cell_type": "code",
      "metadata": {
        "id": "mDIzv4OodPHE"
      },
      "source": [
        "import matplotlib.pyplot as plt\n",
        "import numpy as np\n",
        "\n",
        "from mpl_toolkits.mplot3d.axes3d import Axes3D   #for getting the axes via gca(get current axes)\n",
        "from matplotlib import cm # color map\n",
        "\n",
        "from sympy import symbols, diff #for symbols and differentiation funtion(although it slows down the system)\n",
        "from math import log\n",
        "\n",
        "from sklearn.linear_model import LinearRegression\n",
        "from sklearn.metrics import mean_squared_error\n",
        "\n",
        "%matplotlib inline\n",
        "#for plotting graph just below the code, %matplotlib inline is used"
      ],
      "execution_count": null,
      "outputs": []
    },
    {
      "cell_type": "markdown",
      "metadata": {
        "id": "PdcmlbjSdy79"
      },
      "source": [
        "1st COST FUNCTION\n",
        "## $f(x) = x^2 + x + 1$"
      ]
    },
    {
      "cell_type": "code",
      "metadata": {
        "id": "Bf87hma8edSu"
      },
      "source": [
        "# The cost function\n",
        "def f(x):\n",
        "    return x**2+ x + 1"
      ],
      "execution_count": null,
      "outputs": []
    },
    {
      "cell_type": "code",
      "metadata": {
        "id": "StxkN2UVd0MR"
      },
      "source": [
        "# Feeding Data to Variable\n",
        "x_1 = np.linspace(start=-5, stop=5, num=300)   "
      ],
      "execution_count": null,
      "outputs": []
    },
    {
      "cell_type": "code",
      "metadata": {
        "colab": {
          "base_uri": "https://localhost:8080/",
          "height": 288
        },
        "id": "-a6qo21_ePUv",
        "outputId": "b4720387-0e6f-46a2-b4d7-3c5723654171"
      },
      "source": [
        "# Plotting it\n",
        "plt.xlim(-4, 2.5)\n",
        "plt.ylim(0, 9)\n",
        "plt.xlabel('X', fontsize=16)\n",
        "plt.ylabel('f(x)', fontsize=16)\n",
        "plt.plot(x_1, f(x_1), color='aqua')\n",
        "plt.show()"
      ],
      "execution_count": null,
      "outputs": [
        {
          "output_type": "display_data",
          "data": {
            "image/png": "[encoded data removed]",
            "text/plain": [
              "<Figure size 432x288 with 1 Axes>"
            ]
          },
          "metadata": {
            "needs_background": "light"
          }
        }
      ]
    },
    {
      "cell_type": "code",
      "metadata": {
        "id": "x8KTugzfeZh-",
        "colab": {
          "base_uri": "https://localhost:8080/",
          "height": 231
        },
        "outputId": "a9cbf398-69ca-489a-9482-84110e34f296"
      },
      "source": [
        "# Plot function and derivative side by side\n",
        "\n",
        "plt.figure(figsize=[15, 5])\n",
        "\n",
        "# 1 Chart: Cost function\n",
        "plt.subplot(1, 2, 1)\n",
        "\n",
        "plt.xlim(-3, 3)\n",
        "plt.ylim(0, 8)\n",
        "\n",
        "plt.title('Cost function', fontsize=17)\n",
        "plt.xlabel('X', fontsize=16)\n",
        "plt.ylabel('f(x)', fontsize=16)\n",
        "\n",
        "plt.plot(x_1, f(x_1), color='blue', linewidth=3)\n",
        "\n",
        "# 2 Chart: Derivative\n",
        "plt.subplot(1, 2, 2)\n",
        "\n",
        "plt.title('Slope of the cost function', fontsize=17)\n",
        "plt.xlabel('X', fontsize=16)\n",
        "plt.ylabel('df(x)', fontsize=16)\n",
        "plt.grid()\n",
        "plt.xlim(-2, 3)\n",
        "plt.ylim(-3, 6)\n",
        "\n",
        "plt.plot(x_1, df(x_1), color='skyblue', linewidth=5)\n",
        "\n",
        "plt.show()"
      ],
      "execution_count": 1,
      "outputs": [
        {
          "output_type": "error",
          "ename": "NameError",
          "evalue": "ignored",
          "traceback": [
            "\u001b[0;31m---------------------------------------------------------------------------\u001b[0m",
            "\u001b[0;31mNameError\u001b[0m                                 Traceback (most recent call last)",
            "\u001b[0;32m<ipython-input-1-c71833ab57b5>\u001b[0m in \u001b[0;36m<module>\u001b[0;34m()\u001b[0m\n\u001b[1;32m      1\u001b[0m \u001b[0;31m# Plot function and derivative side by side\u001b[0m\u001b[0;34m\u001b[0m\u001b[0;34m\u001b[0m\u001b[0;34m\u001b[0m\u001b[0m\n\u001b[1;32m      2\u001b[0m \u001b[0;34m\u001b[0m\u001b[0m\n\u001b[0;32m----> 3\u001b[0;31m \u001b[0mplt\u001b[0m\u001b[0;34m.\u001b[0m\u001b[0mfigure\u001b[0m\u001b[0;34m(\u001b[0m\u001b[0mfigsize\u001b[0m\u001b[0;34m=\u001b[0m\u001b[0;34m[\u001b[0m\u001b[0;36m15\u001b[0m\u001b[0;34m,\u001b[0m \u001b[0;36m5\u001b[0m\u001b[0;34m]\u001b[0m\u001b[0;34m)\u001b[0m\u001b[0;34m\u001b[0m\u001b[0;34m\u001b[0m\u001b[0m\n\u001b[0m\u001b[1;32m      4\u001b[0m \u001b[0;34m\u001b[0m\u001b[0m\n\u001b[1;32m      5\u001b[0m \u001b[0;31m# 1 Chart: Cost function\u001b[0m\u001b[0;34m\u001b[0m\u001b[0;34m\u001b[0m\u001b[0;34m\u001b[0m\u001b[0m\n",
            "\u001b[0;31mNameError\u001b[0m: name 'plt' is not defined"
          ]
        }
      ]
    },
    {
      "cell_type": "code",
      "metadata": {
        "id": "Td_q7nztQmo8"
      },
      "source": [
        ""
      ],
      "execution_count": null,
      "outputs": []
    }
  ]
}