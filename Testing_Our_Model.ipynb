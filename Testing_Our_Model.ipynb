{
  "nbformat": 4,
  "nbformat_minor": 0,
  "metadata": {
    "colab": {
      "name": "Testing Our Model.ipynb",
      "provenance": [],
      "authorship_tag": "ABX9TyOv6xSb3DmGhsYRq3v1LqU3",
      "include_colab_link": true
    },
    "kernelspec": {
      "name": "python3",
      "display_name": "Python 3"
    },
    "language_info": {
      "name": "python"
    }
  },
  "cells": [
    {
      "cell_type": "markdown",
      "metadata": {
        "id": "view-in-github",
        "colab_type": "text"
      },
      "source": [
        "<a href=\"https://colab.research.google.com/github/KumarGaurav20/Spam-Emails/blob/main/Testing_Our_Model.ipynb\" target=\"_parent\"><img src=\"https://colab.research.google.com/assets/colab-badge.svg\" alt=\"Open In Colab\"/></a>"
      ]
    },
    {
      "cell_type": "markdown",
      "metadata": {
        "id": "bDposLu2ls0x"
      },
      "source": [
        "# TESTING OUR MODEL-BAYES CLASSIFIER"
      ]
    },
    {
      "cell_type": "code",
      "metadata": {
        "colab": {
          "base_uri": "https://localhost:8080/"
        },
        "id": "_glFDpnMmh-Q",
        "outputId": "291c9607-bb20-44a7-9164-45eec2969ae9"
      },
      "source": [
        "from google.colab import drive\n",
        "\n",
        "drive.mount('/content/gdrive')"
      ],
      "execution_count": 5,
      "outputs": [
        {
          "output_type": "stream",
          "name": "stdout",
          "text": [
            "Mounted at /content/gdrive\n"
          ]
        }
      ]
    },
    {
      "cell_type": "markdown",
      "metadata": {
        "id": "xj934VKNlp_R"
      },
      "source": [
        "## Notebook Imports\n"
      ]
    },
    {
      "cell_type": "code",
      "metadata": {
        "id": "Qhqtr8QZlA92"
      },
      "source": [
        "import pandas as pd\n",
        "import numpy as np\n",
        "import matplotlib.pyplot as plt\n",
        "import seaborn as sns\n",
        "\n",
        "%matplotlib inline"
      ],
      "execution_count": 1,
      "outputs": []
    },
    {
      "cell_type": "markdown",
      "metadata": {
        "id": "VydUXEESl7cv"
      },
      "source": [
        "##CONSTANTS"
      ]
    },
    {
      "cell_type": "code",
      "metadata": {
        "id": "taIwGLl3lwwU"
      },
      "source": [
        "TOKEN_SPAM_PROB_FILE = '/content/gdrive/MyDrive/COLAB DATA/prob-spam.txt'\n",
        "TOKEN_HAM_PROB_FILE = '/content/gdrive/MyDrive/COLAB DATA/prob-nonspam.txt'\n",
        "TOKEN_ALL_PROB_FILE = '/content/gdrive/MyDrive/COLAB DATA/prob-all-tokens.txt'\n",
        "\n",
        "\n",
        "\n",
        "TEST_FEATURE_MATRIX = '/content/gdrive/MyDrive/COLAB DATA/test-features.txt'\n",
        "TEST_TARGET_FILE = '/content/gdrive/MyDrive/COLAB DATA/test-target.txt'\n",
        "\n",
        "VOCAB_SIZE = 2500"
      ],
      "execution_count": 4,
      "outputs": []
    },
    {
      "cell_type": "markdown",
      "metadata": {
        "id": "dMp_EkVDmFo-"
      },
      "source": [
        "## ACESSING THE DATA"
      ]
    },
    {
      "cell_type": "code",
      "metadata": {
        "id": "0CyTv8qUl60U"
      },
      "source": [
        "# Features\n",
        "X_test = np.loadtxt(TEST_FEATURE_MATRIX, delimiter=' ')\n",
        "# Target\n",
        "y_test = np.loadtxt(TEST_TARGET_FILE, delimiter=' ')\n",
        "# Token Probabilities\n",
        "prob_token_spam = np.loadtxt(TOKEN_SPAM_PROB_FILE, delimiter=' ')\n",
        "prob_token_ham = np.loadtxt(TOKEN_HAM_PROB_FILE, delimiter=' ')\n",
        "prob_all_tokens = np.loadtxt(TOKEN_ALL_PROB_FILE, delimiter=' ')"
      ],
      "execution_count": 6,
      "outputs": []
    },
    {
      "cell_type": "code",
      "metadata": {
        "colab": {
          "base_uri": "https://localhost:8080/"
        },
        "id": "oqSbySC7mJY9",
        "outputId": "7a8a3a04-0e4f-461f-b8d3-54004f4eefc9"
      },
      "source": [
        "X_test[:10]"
      ],
      "execution_count": 7,
      "outputs": [
        {
          "output_type": "execute_result",
          "data": {
            "text/plain": [
              "array([[0., 0., 0., ..., 0., 0., 0.],\n",
              "       [0., 2., 1., ..., 0., 0., 0.],\n",
              "       [3., 0., 1., ..., 0., 0., 0.],\n",
              "       ...,\n",
              "       [0., 0., 0., ..., 0., 0., 0.],\n",
              "       [0., 0., 0., ..., 0., 0., 0.],\n",
              "       [0., 2., 6., ..., 0., 0., 0.]])"
            ]
          },
          "metadata": {},
          "execution_count": 7
        }
      ]
    },
    {
      "cell_type": "code",
      "metadata": {
        "colab": {
          "base_uri": "https://localhost:8080/"
        },
        "id": "sfvD_y4km0KT",
        "outputId": "467fb05c-3c25-4532-f0b6-26a0247836ee"
      },
      "source": [
        "y_test[:5], y_test[-5:]   #0->NONSPAM, 1->SPAM"
      ],
      "execution_count": 11,
      "outputs": [
        {
          "output_type": "execute_result",
          "data": {
            "text/plain": [
              "(array([1., 1., 1., 1., 1.]), array([0., 0., 0., 0., 0.]))"
            ]
          },
          "metadata": {},
          "execution_count": 11
        }
      ]
    },
    {
      "cell_type": "markdown",
      "metadata": {
        "id": "pkRZfykEoq_c"
      },
      "source": [
        "# CALCULATING THE JOINT PROBABILITY"
      ]
    },
    {
      "cell_type": "markdown",
      "metadata": {
        "id": "QU_2I56Lp_Ez"
      },
      "source": [
        "## JOINT PROBABILIY OF SPAM\n"
      ]
    },
    {
      "cell_type": "markdown",
      "metadata": {
        "id": "yTdqYKNao0kt"
      },
      "source": [
        "$P(Spam \\, | \\, X) = \\frac{P(X \\, | \\, Spam) \\, P(Spam)} {P(X)}$"
      ]
    },
    {
      "cell_type": "markdown",
      "metadata": {
        "id": "LMft1vNCo56s"
      },
      "source": [
        "PRIOR"
      ]
    },
    {
      "cell_type": "code",
      "metadata": {
        "colab": {
          "base_uri": "https://localhost:8080/"
        },
        "id": "NQfvKMOTm2Zt",
        "outputId": "f532a018-0404-4646-9793-e2fb7134d49e"
      },
      "source": [
        "# NOTE:Prior is the distribution that is imputed before the model starts to see any data.\n",
        "# As we already know the prior P(Spam), we'll use that. \n",
        "PROB_SPAM "
      ],
      "execution_count": 16,
      "outputs": [
        {
          "output_type": "execute_result",
          "data": {
            "text/plain": [
              "0.3116"
            ]
          },
          "metadata": {},
          "execution_count": 16
        }
      ]
    },
    {
      "cell_type": "code",
      "metadata": {
        "id": "EGTKu9fzpJEl"
      },
      "source": [
        "# TAKING LOG ON BOTH SIDE OF THE Eqn\n",
        "joint_log_spam = X_test.dot(np.log(prob_token_spam) - np.log(prob_all_tokens)) + np.log(PROB_SPAM)\n"
      ],
      "execution_count": 17,
      "outputs": []
    },
    {
      "cell_type": "code",
      "metadata": {
        "colab": {
          "base_uri": "https://localhost:8080/"
        },
        "id": "QUQmxmH4p0uW",
        "outputId": "b8cbd475-1d04-4e1b-cce4-b1365a549975"
      },
      "source": [
        "joint_log_spam"
      ],
      "execution_count": 18,
      "outputs": [
        {
          "output_type": "execute_result",
          "data": {
            "text/plain": [
              "array([  3.21926579,  13.35310029,  19.22329985, ..., -31.24582095,\n",
              "        -4.77833586, -17.03309585])"
            ]
          },
          "metadata": {},
          "execution_count": 18
        }
      ]
    },
    {
      "cell_type": "markdown",
      "metadata": {
        "id": "QQ16nzgMqDi4"
      },
      "source": [
        "## JOINT PROBABILITY OF NONSPAM"
      ]
    },
    {
      "cell_type": "markdown",
      "metadata": {
        "id": "pfrVL1BnqKo2"
      },
      "source": [
        "$P(Ham \\, | \\, X) = \\frac{P(X \\, | \\, Ham) \\, (1-P(Spam))} {P(X)}$\n"
      ]
    },
    {
      "cell_type": "code",
      "metadata": {
        "id": "eUX4ukYWp2qZ"
      },
      "source": [
        "joint_log_ham = X_test.dot(np.log(prob_token_ham) - np.log(prob_all_tokens)) + np.log(1-PROB_SPAM)"
      ],
      "execution_count": 19,
      "outputs": []
    },
    {
      "cell_type": "code",
      "metadata": {
        "colab": {
          "base_uri": "https://localhost:8080/"
        },
        "id": "j4r7CMZ3qPjU",
        "outputId": "469617b7-f601-47f6-94e1-eecb47f5cc0a"
      },
      "source": [
        "joint_log_ham\n"
      ],
      "execution_count": 20,
      "outputs": [
        {
          "output_type": "execute_result",
          "data": {
            "text/plain": [
              "array([-11.05412802, -36.85845149, -38.27162954, ...,   4.83559496,\n",
              "         0.28826957,   3.12480869])"
            ]
          },
          "metadata": {},
          "execution_count": 20
        }
      ]
    },
    {
      "cell_type": "code",
      "metadata": {
        "id": "tOtQyOgDqSay"
      },
      "source": [
        ""
      ],
      "execution_count": null,
      "outputs": []
    }
  ]
}