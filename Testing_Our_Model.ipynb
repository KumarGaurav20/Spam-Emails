{
  "nbformat": 4,
  "nbformat_minor": 0,
  "metadata": {
    "colab": {
      "name": "Testing Our Model.ipynb",
      "provenance": [],
      "authorship_tag": "ABX9TyP/MII/BLQU9dD2C1kuGLzu",
      "include_colab_link": true
    },
    "kernelspec": {
      "name": "python3",
      "display_name": "Python 3"
    },
    "language_info": {
      "name": "python"
    }
  },
  "cells": [
    {
      "cell_type": "markdown",
      "metadata": {
        "id": "view-in-github",
        "colab_type": "text"
      },
      "source": [
        "<a href=\"https://colab.research.google.com/github/KumarGaurav20/Spam-Emails/blob/main/Testing_Our_Model.ipynb\" target=\"_parent\"><img src=\"https://colab.research.google.com/assets/colab-badge.svg\" alt=\"Open In Colab\"/></a>"
      ]
    },
    {
      "cell_type": "markdown",
      "metadata": {
        "id": "bDposLu2ls0x"
      },
      "source": [
        "# TESTING OUR MODEL-BAYES CLASSIFIER"
      ]
    },
    {
      "cell_type": "code",
      "metadata": {
        "colab": {
          "base_uri": "https://localhost:8080/"
        },
        "id": "_glFDpnMmh-Q",
        "outputId": "291c9607-bb20-44a7-9164-45eec2969ae9"
      },
      "source": [
        "from google.colab import drive\n",
        "\n",
        "drive.mount('/content/gdrive')"
      ],
      "execution_count": 5,
      "outputs": [
        {
          "output_type": "stream",
          "name": "stdout",
          "text": [
            "Mounted at /content/gdrive\n"
          ]
        }
      ]
    },
    {
      "cell_type": "markdown",
      "metadata": {
        "id": "xj934VKNlp_R"
      },
      "source": [
        "## Notebook Imports\n"
      ]
    },
    {
      "cell_type": "code",
      "metadata": {
        "id": "Qhqtr8QZlA92"
      },
      "source": [
        "import pandas as pd\n",
        "import numpy as np\n",
        "import matplotlib.pyplot as plt\n",
        "import seaborn as sns\n",
        "\n",
        "%matplotlib inline"
      ],
      "execution_count": 1,
      "outputs": []
    },
    {
      "cell_type": "markdown",
      "metadata": {
        "id": "VydUXEESl7cv"
      },
      "source": [
        "##CONSTANTS"
      ]
    },
    {
      "cell_type": "code",
      "metadata": {
        "id": "taIwGLl3lwwU"
      },
      "source": [
        "TOKEN_SPAM_PROB_FILE = '/content/gdrive/MyDrive/COLAB DATA/prob-spam.txt'\n",
        "TOKEN_HAM_PROB_FILE = '/content/gdrive/MyDrive/COLAB DATA/prob-nonspam.txt'\n",
        "TOKEN_ALL_PROB_FILE = '/content/gdrive/MyDrive/COLAB DATA/prob-all-tokens.txt'\n",
        "\n",
        "\n",
        "\n",
        "TEST_FEATURE_MATRIX = '/content/gdrive/MyDrive/COLAB DATA/test-features.txt'\n",
        "TEST_TARGET_FILE = '/content/gdrive/MyDrive/COLAB DATA/test-target.txt'\n",
        "\n",
        "VOCAB_SIZE = 2500"
      ],
      "execution_count": 4,
      "outputs": []
    },
    {
      "cell_type": "markdown",
      "metadata": {
        "id": "dMp_EkVDmFo-"
      },
      "source": [
        "## ACESSING THE DATA"
      ]
    },
    {
      "cell_type": "code",
      "metadata": {
        "id": "0CyTv8qUl60U"
      },
      "source": [
        "# Features\n",
        "X_test = np.loadtxt(TEST_FEATURE_MATRIX, delimiter=' ')\n",
        "# Target\n",
        "y_test = np.loadtxt(TEST_TARGET_FILE, delimiter=' ')\n",
        "# Token Probabilities\n",
        "prob_token_spam = np.loadtxt(TOKEN_SPAM_PROB_FILE, delimiter=' ')\n",
        "prob_token_ham = np.loadtxt(TOKEN_HAM_PROB_FILE, delimiter=' ')\n",
        "prob_all_tokens = np.loadtxt(TOKEN_ALL_PROB_FILE, delimiter=' ')"
      ],
      "execution_count": 6,
      "outputs": []
    },
    {
      "cell_type": "code",
      "metadata": {
        "colab": {
          "base_uri": "https://localhost:8080/"
        },
        "id": "oqSbySC7mJY9",
        "outputId": "7a8a3a04-0e4f-461f-b8d3-54004f4eefc9"
      },
      "source": [
        "X_test[:10]"
      ],
      "execution_count": 7,
      "outputs": [
        {
          "output_type": "execute_result",
          "data": {
            "text/plain": [
              "array([[0., 0., 0., ..., 0., 0., 0.],\n",
              "       [0., 2., 1., ..., 0., 0., 0.],\n",
              "       [3., 0., 1., ..., 0., 0., 0.],\n",
              "       ...,\n",
              "       [0., 0., 0., ..., 0., 0., 0.],\n",
              "       [0., 0., 0., ..., 0., 0., 0.],\n",
              "       [0., 2., 6., ..., 0., 0., 0.]])"
            ]
          },
          "metadata": {},
          "execution_count": 7
        }
      ]
    },
    {
      "cell_type": "code",
      "metadata": {
        "colab": {
          "base_uri": "https://localhost:8080/"
        },
        "id": "sfvD_y4km0KT",
        "outputId": "467fb05c-3c25-4532-f0b6-26a0247836ee"
      },
      "source": [
        "y_test[:5], y_test[-5:]   #0->NONSPAM, 1->SPAM"
      ],
      "execution_count": 11,
      "outputs": [
        {
          "output_type": "execute_result",
          "data": {
            "text/plain": [
              "(array([1., 1., 1., 1., 1.]), array([0., 0., 0., 0., 0.]))"
            ]
          },
          "metadata": {},
          "execution_count": 11
        }
      ]
    },
    {
      "cell_type": "code",
      "metadata": {
        "id": "NQfvKMOTm2Zt"
      },
      "source": [
        ""
      ],
      "execution_count": null,
      "outputs": []
    }
  ]
}